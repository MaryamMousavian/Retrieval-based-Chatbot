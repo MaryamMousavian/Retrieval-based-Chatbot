{
  "nbformat": 4,
  "nbformat_minor": 0,
  "metadata": {
    "colab": {
      "name": "Retrieval-based Chatbot.ipynb",
      "provenance": [],
      "collapsed_sections": []
    },
    "kernelspec": {
      "name": "python3",
      "display_name": "Python 3"
    },
    "language_info": {
      "name": "python"
    },
    "accelerator": "TPU",
    "widgets": {
      "application/vnd.jupyter.widget-state+json": {
        "da982b2f8d5d46519138a0f3fb3c370e": {
          "model_module": "@jupyter-widgets/controls",
          "model_name": "HBoxModel",
          "model_module_version": "1.5.0",
          "state": {
            "_dom_classes": [],
            "_model_module": "@jupyter-widgets/controls",
            "_model_module_version": "1.5.0",
            "_model_name": "HBoxModel",
            "_view_count": null,
            "_view_module": "@jupyter-widgets/controls",
            "_view_module_version": "1.5.0",
            "_view_name": "HBoxView",
            "box_style": "",
            "children": [
              "IPY_MODEL_95cb4c6cb19040419e64fccd2ec4a88f",
              "IPY_MODEL_cc355313fd2646798bc7e40ee8776c88",
              "IPY_MODEL_9d96ef78bb314fd5959c7d59a7293a81"
            ],
            "layout": "IPY_MODEL_1b3a76b67a2a4b54bfb197aa803d539a"
          }
        },
        "95cb4c6cb19040419e64fccd2ec4a88f": {
          "model_module": "@jupyter-widgets/controls",
          "model_name": "HTMLModel",
          "model_module_version": "1.5.0",
          "state": {
            "_dom_classes": [],
            "_model_module": "@jupyter-widgets/controls",
            "_model_module_version": "1.5.0",
            "_model_name": "HTMLModel",
            "_view_count": null,
            "_view_module": "@jupyter-widgets/controls",
            "_view_module_version": "1.5.0",
            "_view_name": "HTMLView",
            "description": "",
            "description_tooltip": null,
            "layout": "IPY_MODEL_0fa916a586bf4f56bcd9674b6eb65c6f",
            "placeholder": "​",
            "style": "IPY_MODEL_a3cc794b91c6419282217e3e5cad0407",
            "value": "Downloading: 100%"
          }
        },
        "cc355313fd2646798bc7e40ee8776c88": {
          "model_module": "@jupyter-widgets/controls",
          "model_name": "FloatProgressModel",
          "model_module_version": "1.5.0",
          "state": {
            "_dom_classes": [],
            "_model_module": "@jupyter-widgets/controls",
            "_model_module_version": "1.5.0",
            "_model_name": "FloatProgressModel",
            "_view_count": null,
            "_view_module": "@jupyter-widgets/controls",
            "_view_module_version": "1.5.0",
            "_view_name": "ProgressView",
            "bar_style": "success",
            "description": "",
            "description_tooltip": null,
            "layout": "IPY_MODEL_b0bbb97f4d444b84af87e4af4dd6e918",
            "max": 28,
            "min": 0,
            "orientation": "horizontal",
            "style": "IPY_MODEL_daae274866ec4fea9d57ec76dbf9d247",
            "value": 28
          }
        },
        "9d96ef78bb314fd5959c7d59a7293a81": {
          "model_module": "@jupyter-widgets/controls",
          "model_name": "HTMLModel",
          "model_module_version": "1.5.0",
          "state": {
            "_dom_classes": [],
            "_model_module": "@jupyter-widgets/controls",
            "_model_module_version": "1.5.0",
            "_model_name": "HTMLModel",
            "_view_count": null,
            "_view_module": "@jupyter-widgets/controls",
            "_view_module_version": "1.5.0",
            "_view_name": "HTMLView",
            "description": "",
            "description_tooltip": null,
            "layout": "IPY_MODEL_3e6b0339bc3848f4847807aa0cde52bd",
            "placeholder": "​",
            "style": "IPY_MODEL_b16a5d0c0f994ab5ba2eba3d14b109c9",
            "value": " 28.0/28.0 [00:00&lt;00:00, 221B/s]"
          }
        },
        "1b3a76b67a2a4b54bfb197aa803d539a": {
          "model_module": "@jupyter-widgets/base",
          "model_name": "LayoutModel",
          "model_module_version": "1.2.0",
          "state": {
            "_model_module": "@jupyter-widgets/base",
            "_model_module_version": "1.2.0",
            "_model_name": "LayoutModel",
            "_view_count": null,
            "_view_module": "@jupyter-widgets/base",
            "_view_module_version": "1.2.0",
            "_view_name": "LayoutView",
            "align_content": null,
            "align_items": null,
            "align_self": null,
            "border": null,
            "bottom": null,
            "display": null,
            "flex": null,
            "flex_flow": null,
            "grid_area": null,
            "grid_auto_columns": null,
            "grid_auto_flow": null,
            "grid_auto_rows": null,
            "grid_column": null,
            "grid_gap": null,
            "grid_row": null,
            "grid_template_areas": null,
            "grid_template_columns": null,
            "grid_template_rows": null,
            "height": null,
            "justify_content": null,
            "justify_items": null,
            "left": null,
            "margin": null,
            "max_height": null,
            "max_width": null,
            "min_height": null,
            "min_width": null,
            "object_fit": null,
            "object_position": null,
            "order": null,
            "overflow": null,
            "overflow_x": null,
            "overflow_y": null,
            "padding": null,
            "right": null,
            "top": null,
            "visibility": null,
            "width": null
          }
        },
        "0fa916a586bf4f56bcd9674b6eb65c6f": {
          "model_module": "@jupyter-widgets/base",
          "model_name": "LayoutModel",
          "model_module_version": "1.2.0",
          "state": {
            "_model_module": "@jupyter-widgets/base",
            "_model_module_version": "1.2.0",
            "_model_name": "LayoutModel",
            "_view_count": null,
            "_view_module": "@jupyter-widgets/base",
            "_view_module_version": "1.2.0",
            "_view_name": "LayoutView",
            "align_content": null,
            "align_items": null,
            "align_self": null,
            "border": null,
            "bottom": null,
            "display": null,
            "flex": null,
            "flex_flow": null,
            "grid_area": null,
            "grid_auto_columns": null,
            "grid_auto_flow": null,
            "grid_auto_rows": null,
            "grid_column": null,
            "grid_gap": null,
            "grid_row": null,
            "grid_template_areas": null,
            "grid_template_columns": null,
            "grid_template_rows": null,
            "height": null,
            "justify_content": null,
            "justify_items": null,
            "left": null,
            "margin": null,
            "max_height": null,
            "max_width": null,
            "min_height": null,
            "min_width": null,
            "object_fit": null,
            "object_position": null,
            "order": null,
            "overflow": null,
            "overflow_x": null,
            "overflow_y": null,
            "padding": null,
            "right": null,
            "top": null,
            "visibility": null,
            "width": null
          }
        },
        "a3cc794b91c6419282217e3e5cad0407": {
          "model_module": "@jupyter-widgets/controls",
          "model_name": "DescriptionStyleModel",
          "model_module_version": "1.5.0",
          "state": {
            "_model_module": "@jupyter-widgets/controls",
            "_model_module_version": "1.5.0",
            "_model_name": "DescriptionStyleModel",
            "_view_count": null,
            "_view_module": "@jupyter-widgets/base",
            "_view_module_version": "1.2.0",
            "_view_name": "StyleView",
            "description_width": ""
          }
        },
        "b0bbb97f4d444b84af87e4af4dd6e918": {
          "model_module": "@jupyter-widgets/base",
          "model_name": "LayoutModel",
          "model_module_version": "1.2.0",
          "state": {
            "_model_module": "@jupyter-widgets/base",
            "_model_module_version": "1.2.0",
            "_model_name": "LayoutModel",
            "_view_count": null,
            "_view_module": "@jupyter-widgets/base",
            "_view_module_version": "1.2.0",
            "_view_name": "LayoutView",
            "align_content": null,
            "align_items": null,
            "align_self": null,
            "border": null,
            "bottom": null,
            "display": null,
            "flex": null,
            "flex_flow": null,
            "grid_area": null,
            "grid_auto_columns": null,
            "grid_auto_flow": null,
            "grid_auto_rows": null,
            "grid_column": null,
            "grid_gap": null,
            "grid_row": null,
            "grid_template_areas": null,
            "grid_template_columns": null,
            "grid_template_rows": null,
            "height": null,
            "justify_content": null,
            "justify_items": null,
            "left": null,
            "margin": null,
            "max_height": null,
            "max_width": null,
            "min_height": null,
            "min_width": null,
            "object_fit": null,
            "object_position": null,
            "order": null,
            "overflow": null,
            "overflow_x": null,
            "overflow_y": null,
            "padding": null,
            "right": null,
            "top": null,
            "visibility": null,
            "width": null
          }
        },
        "daae274866ec4fea9d57ec76dbf9d247": {
          "model_module": "@jupyter-widgets/controls",
          "model_name": "ProgressStyleModel",
          "model_module_version": "1.5.0",
          "state": {
            "_model_module": "@jupyter-widgets/controls",
            "_model_module_version": "1.5.0",
            "_model_name": "ProgressStyleModel",
            "_view_count": null,
            "_view_module": "@jupyter-widgets/base",
            "_view_module_version": "1.2.0",
            "_view_name": "StyleView",
            "bar_color": null,
            "description_width": ""
          }
        },
        "3e6b0339bc3848f4847807aa0cde52bd": {
          "model_module": "@jupyter-widgets/base",
          "model_name": "LayoutModel",
          "model_module_version": "1.2.0",
          "state": {
            "_model_module": "@jupyter-widgets/base",
            "_model_module_version": "1.2.0",
            "_model_name": "LayoutModel",
            "_view_count": null,
            "_view_module": "@jupyter-widgets/base",
            "_view_module_version": "1.2.0",
            "_view_name": "LayoutView",
            "align_content": null,
            "align_items": null,
            "align_self": null,
            "border": null,
            "bottom": null,
            "display": null,
            "flex": null,
            "flex_flow": null,
            "grid_area": null,
            "grid_auto_columns": null,
            "grid_auto_flow": null,
            "grid_auto_rows": null,
            "grid_column": null,
            "grid_gap": null,
            "grid_row": null,
            "grid_template_areas": null,
            "grid_template_columns": null,
            "grid_template_rows": null,
            "height": null,
            "justify_content": null,
            "justify_items": null,
            "left": null,
            "margin": null,
            "max_height": null,
            "max_width": null,
            "min_height": null,
            "min_width": null,
            "object_fit": null,
            "object_position": null,
            "order": null,
            "overflow": null,
            "overflow_x": null,
            "overflow_y": null,
            "padding": null,
            "right": null,
            "top": null,
            "visibility": null,
            "width": null
          }
        },
        "b16a5d0c0f994ab5ba2eba3d14b109c9": {
          "model_module": "@jupyter-widgets/controls",
          "model_name": "DescriptionStyleModel",
          "model_module_version": "1.5.0",
          "state": {
            "_model_module": "@jupyter-widgets/controls",
            "_model_module_version": "1.5.0",
            "_model_name": "DescriptionStyleModel",
            "_view_count": null,
            "_view_module": "@jupyter-widgets/base",
            "_view_module_version": "1.2.0",
            "_view_name": "StyleView",
            "description_width": ""
          }
        },
        "9e1968908f3d46f58dd2049488bfaf2d": {
          "model_module": "@jupyter-widgets/controls",
          "model_name": "HBoxModel",
          "model_module_version": "1.5.0",
          "state": {
            "_dom_classes": [],
            "_model_module": "@jupyter-widgets/controls",
            "_model_module_version": "1.5.0",
            "_model_name": "HBoxModel",
            "_view_count": null,
            "_view_module": "@jupyter-widgets/controls",
            "_view_module_version": "1.5.0",
            "_view_name": "HBoxView",
            "box_style": "",
            "children": [
              "IPY_MODEL_16360d72d9364be2b98ed35c835dafa5",
              "IPY_MODEL_2ade7da7554044608b87e8e1c363cf2f",
              "IPY_MODEL_f39cec21a59845cfbd89d98b769b4e6c"
            ],
            "layout": "IPY_MODEL_fa70e3f66b784c7d82bce90035c2e2af"
          }
        },
        "16360d72d9364be2b98ed35c835dafa5": {
          "model_module": "@jupyter-widgets/controls",
          "model_name": "HTMLModel",
          "model_module_version": "1.5.0",
          "state": {
            "_dom_classes": [],
            "_model_module": "@jupyter-widgets/controls",
            "_model_module_version": "1.5.0",
            "_model_name": "HTMLModel",
            "_view_count": null,
            "_view_module": "@jupyter-widgets/controls",
            "_view_module_version": "1.5.0",
            "_view_name": "HTMLView",
            "description": "",
            "description_tooltip": null,
            "layout": "IPY_MODEL_0846d8206963481ba55d3b7e23f728cd",
            "placeholder": "​",
            "style": "IPY_MODEL_cbb620fb4ac14a06a2f538059f41b788",
            "value": "Downloading: 100%"
          }
        },
        "2ade7da7554044608b87e8e1c363cf2f": {
          "model_module": "@jupyter-widgets/controls",
          "model_name": "FloatProgressModel",
          "model_module_version": "1.5.0",
          "state": {
            "_dom_classes": [],
            "_model_module": "@jupyter-widgets/controls",
            "_model_module_version": "1.5.0",
            "_model_name": "FloatProgressModel",
            "_view_count": null,
            "_view_module": "@jupyter-widgets/controls",
            "_view_module_version": "1.5.0",
            "_view_name": "ProgressView",
            "bar_style": "success",
            "description": "",
            "description_tooltip": null,
            "layout": "IPY_MODEL_65818a24393547a7a69a797c11219eab",
            "max": 570,
            "min": 0,
            "orientation": "horizontal",
            "style": "IPY_MODEL_c1e75043f8464b6da3de01b7a2350bc2",
            "value": 570
          }
        },
        "f39cec21a59845cfbd89d98b769b4e6c": {
          "model_module": "@jupyter-widgets/controls",
          "model_name": "HTMLModel",
          "model_module_version": "1.5.0",
          "state": {
            "_dom_classes": [],
            "_model_module": "@jupyter-widgets/controls",
            "_model_module_version": "1.5.0",
            "_model_name": "HTMLModel",
            "_view_count": null,
            "_view_module": "@jupyter-widgets/controls",
            "_view_module_version": "1.5.0",
            "_view_name": "HTMLView",
            "description": "",
            "description_tooltip": null,
            "layout": "IPY_MODEL_e2a2cedccbc64033b38233767f95e77a",
            "placeholder": "​",
            "style": "IPY_MODEL_1f76cee5689e4033b69928f4cadba640",
            "value": " 570/570 [00:00&lt;00:00, 3.20kB/s]"
          }
        },
        "fa70e3f66b784c7d82bce90035c2e2af": {
          "model_module": "@jupyter-widgets/base",
          "model_name": "LayoutModel",
          "model_module_version": "1.2.0",
          "state": {
            "_model_module": "@jupyter-widgets/base",
            "_model_module_version": "1.2.0",
            "_model_name": "LayoutModel",
            "_view_count": null,
            "_view_module": "@jupyter-widgets/base",
            "_view_module_version": "1.2.0",
            "_view_name": "LayoutView",
            "align_content": null,
            "align_items": null,
            "align_self": null,
            "border": null,
            "bottom": null,
            "display": null,
            "flex": null,
            "flex_flow": null,
            "grid_area": null,
            "grid_auto_columns": null,
            "grid_auto_flow": null,
            "grid_auto_rows": null,
            "grid_column": null,
            "grid_gap": null,
            "grid_row": null,
            "grid_template_areas": null,
            "grid_template_columns": null,
            "grid_template_rows": null,
            "height": null,
            "justify_content": null,
            "justify_items": null,
            "left": null,
            "margin": null,
            "max_height": null,
            "max_width": null,
            "min_height": null,
            "min_width": null,
            "object_fit": null,
            "object_position": null,
            "order": null,
            "overflow": null,
            "overflow_x": null,
            "overflow_y": null,
            "padding": null,
            "right": null,
            "top": null,
            "visibility": null,
            "width": null
          }
        },
        "0846d8206963481ba55d3b7e23f728cd": {
          "model_module": "@jupyter-widgets/base",
          "model_name": "LayoutModel",
          "model_module_version": "1.2.0",
          "state": {
            "_model_module": "@jupyter-widgets/base",
            "_model_module_version": "1.2.0",
            "_model_name": "LayoutModel",
            "_view_count": null,
            "_view_module": "@jupyter-widgets/base",
            "_view_module_version": "1.2.0",
            "_view_name": "LayoutView",
            "align_content": null,
            "align_items": null,
            "align_self": null,
            "border": null,
            "bottom": null,
            "display": null,
            "flex": null,
            "flex_flow": null,
            "grid_area": null,
            "grid_auto_columns": null,
            "grid_auto_flow": null,
            "grid_auto_rows": null,
            "grid_column": null,
            "grid_gap": null,
            "grid_row": null,
            "grid_template_areas": null,
            "grid_template_columns": null,
            "grid_template_rows": null,
            "height": null,
            "justify_content": null,
            "justify_items": null,
            "left": null,
            "margin": null,
            "max_height": null,
            "max_width": null,
            "min_height": null,
            "min_width": null,
            "object_fit": null,
            "object_position": null,
            "order": null,
            "overflow": null,
            "overflow_x": null,
            "overflow_y": null,
            "padding": null,
            "right": null,
            "top": null,
            "visibility": null,
            "width": null
          }
        },
        "cbb620fb4ac14a06a2f538059f41b788": {
          "model_module": "@jupyter-widgets/controls",
          "model_name": "DescriptionStyleModel",
          "model_module_version": "1.5.0",
          "state": {
            "_model_module": "@jupyter-widgets/controls",
            "_model_module_version": "1.5.0",
            "_model_name": "DescriptionStyleModel",
            "_view_count": null,
            "_view_module": "@jupyter-widgets/base",
            "_view_module_version": "1.2.0",
            "_view_name": "StyleView",
            "description_width": ""
          }
        },
        "65818a24393547a7a69a797c11219eab": {
          "model_module": "@jupyter-widgets/base",
          "model_name": "LayoutModel",
          "model_module_version": "1.2.0",
          "state": {
            "_model_module": "@jupyter-widgets/base",
            "_model_module_version": "1.2.0",
            "_model_name": "LayoutModel",
            "_view_count": null,
            "_view_module": "@jupyter-widgets/base",
            "_view_module_version": "1.2.0",
            "_view_name": "LayoutView",
            "align_content": null,
            "align_items": null,
            "align_self": null,
            "border": null,
            "bottom": null,
            "display": null,
            "flex": null,
            "flex_flow": null,
            "grid_area": null,
            "grid_auto_columns": null,
            "grid_auto_flow": null,
            "grid_auto_rows": null,
            "grid_column": null,
            "grid_gap": null,
            "grid_row": null,
            "grid_template_areas": null,
            "grid_template_columns": null,
            "grid_template_rows": null,
            "height": null,
            "justify_content": null,
            "justify_items": null,
            "left": null,
            "margin": null,
            "max_height": null,
            "max_width": null,
            "min_height": null,
            "min_width": null,
            "object_fit": null,
            "object_position": null,
            "order": null,
            "overflow": null,
            "overflow_x": null,
            "overflow_y": null,
            "padding": null,
            "right": null,
            "top": null,
            "visibility": null,
            "width": null
          }
        },
        "c1e75043f8464b6da3de01b7a2350bc2": {
          "model_module": "@jupyter-widgets/controls",
          "model_name": "ProgressStyleModel",
          "model_module_version": "1.5.0",
          "state": {
            "_model_module": "@jupyter-widgets/controls",
            "_model_module_version": "1.5.0",
            "_model_name": "ProgressStyleModel",
            "_view_count": null,
            "_view_module": "@jupyter-widgets/base",
            "_view_module_version": "1.2.0",
            "_view_name": "StyleView",
            "bar_color": null,
            "description_width": ""
          }
        },
        "e2a2cedccbc64033b38233767f95e77a": {
          "model_module": "@jupyter-widgets/base",
          "model_name": "LayoutModel",
          "model_module_version": "1.2.0",
          "state": {
            "_model_module": "@jupyter-widgets/base",
            "_model_module_version": "1.2.0",
            "_model_name": "LayoutModel",
            "_view_count": null,
            "_view_module": "@jupyter-widgets/base",
            "_view_module_version": "1.2.0",
            "_view_name": "LayoutView",
            "align_content": null,
            "align_items": null,
            "align_self": null,
            "border": null,
            "bottom": null,
            "display": null,
            "flex": null,
            "flex_flow": null,
            "grid_area": null,
            "grid_auto_columns": null,
            "grid_auto_flow": null,
            "grid_auto_rows": null,
            "grid_column": null,
            "grid_gap": null,
            "grid_row": null,
            "grid_template_areas": null,
            "grid_template_columns": null,
            "grid_template_rows": null,
            "height": null,
            "justify_content": null,
            "justify_items": null,
            "left": null,
            "margin": null,
            "max_height": null,
            "max_width": null,
            "min_height": null,
            "min_width": null,
            "object_fit": null,
            "object_position": null,
            "order": null,
            "overflow": null,
            "overflow_x": null,
            "overflow_y": null,
            "padding": null,
            "right": null,
            "top": null,
            "visibility": null,
            "width": null
          }
        },
        "1f76cee5689e4033b69928f4cadba640": {
          "model_module": "@jupyter-widgets/controls",
          "model_name": "DescriptionStyleModel",
          "model_module_version": "1.5.0",
          "state": {
            "_model_module": "@jupyter-widgets/controls",
            "_model_module_version": "1.5.0",
            "_model_name": "DescriptionStyleModel",
            "_view_count": null,
            "_view_module": "@jupyter-widgets/base",
            "_view_module_version": "1.2.0",
            "_view_name": "StyleView",
            "description_width": ""
          }
        },
        "d492c3c50cf94e5a86a8aeb16cedd4cc": {
          "model_module": "@jupyter-widgets/controls",
          "model_name": "HBoxModel",
          "model_module_version": "1.5.0",
          "state": {
            "_dom_classes": [],
            "_model_module": "@jupyter-widgets/controls",
            "_model_module_version": "1.5.0",
            "_model_name": "HBoxModel",
            "_view_count": null,
            "_view_module": "@jupyter-widgets/controls",
            "_view_module_version": "1.5.0",
            "_view_name": "HBoxView",
            "box_style": "",
            "children": [
              "IPY_MODEL_b47b7d964315424eb985260a3cf4de62",
              "IPY_MODEL_b3f6ea78531e43c78f881b4ae1895f73",
              "IPY_MODEL_f5e694e2a60446e9b77b77513c7d74e5"
            ],
            "layout": "IPY_MODEL_cfa7f29dcdc94e44a89bba4c78797f6a"
          }
        },
        "b47b7d964315424eb985260a3cf4de62": {
          "model_module": "@jupyter-widgets/controls",
          "model_name": "HTMLModel",
          "model_module_version": "1.5.0",
          "state": {
            "_dom_classes": [],
            "_model_module": "@jupyter-widgets/controls",
            "_model_module_version": "1.5.0",
            "_model_name": "HTMLModel",
            "_view_count": null,
            "_view_module": "@jupyter-widgets/controls",
            "_view_module_version": "1.5.0",
            "_view_name": "HTMLView",
            "description": "",
            "description_tooltip": null,
            "layout": "IPY_MODEL_2b958704889948b585a3833194e97390",
            "placeholder": "​",
            "style": "IPY_MODEL_e8686a1db3eb488790403bd752bc59d7",
            "value": "Downloading: 100%"
          }
        },
        "b3f6ea78531e43c78f881b4ae1895f73": {
          "model_module": "@jupyter-widgets/controls",
          "model_name": "FloatProgressModel",
          "model_module_version": "1.5.0",
          "state": {
            "_dom_classes": [],
            "_model_module": "@jupyter-widgets/controls",
            "_model_module_version": "1.5.0",
            "_model_name": "FloatProgressModel",
            "_view_count": null,
            "_view_module": "@jupyter-widgets/controls",
            "_view_module_version": "1.5.0",
            "_view_name": "ProgressView",
            "bar_style": "success",
            "description": "",
            "description_tooltip": null,
            "layout": "IPY_MODEL_ee6f42b9452d439daf85fe995d8a8f08",
            "max": 231508,
            "min": 0,
            "orientation": "horizontal",
            "style": "IPY_MODEL_a04ba75a73a641f69b4d9003192379c6",
            "value": 231508
          }
        },
        "f5e694e2a60446e9b77b77513c7d74e5": {
          "model_module": "@jupyter-widgets/controls",
          "model_name": "HTMLModel",
          "model_module_version": "1.5.0",
          "state": {
            "_dom_classes": [],
            "_model_module": "@jupyter-widgets/controls",
            "_model_module_version": "1.5.0",
            "_model_name": "HTMLModel",
            "_view_count": null,
            "_view_module": "@jupyter-widgets/controls",
            "_view_module_version": "1.5.0",
            "_view_name": "HTMLView",
            "description": "",
            "description_tooltip": null,
            "layout": "IPY_MODEL_c4cc79a98865424ea85d853548c64393",
            "placeholder": "​",
            "style": "IPY_MODEL_0490b620bb15457db2554eadbab5ebb7",
            "value": " 226k/226k [00:00&lt;00:00, 1.18MB/s]"
          }
        },
        "cfa7f29dcdc94e44a89bba4c78797f6a": {
          "model_module": "@jupyter-widgets/base",
          "model_name": "LayoutModel",
          "model_module_version": "1.2.0",
          "state": {
            "_model_module": "@jupyter-widgets/base",
            "_model_module_version": "1.2.0",
            "_model_name": "LayoutModel",
            "_view_count": null,
            "_view_module": "@jupyter-widgets/base",
            "_view_module_version": "1.2.0",
            "_view_name": "LayoutView",
            "align_content": null,
            "align_items": null,
            "align_self": null,
            "border": null,
            "bottom": null,
            "display": null,
            "flex": null,
            "flex_flow": null,
            "grid_area": null,
            "grid_auto_columns": null,
            "grid_auto_flow": null,
            "grid_auto_rows": null,
            "grid_column": null,
            "grid_gap": null,
            "grid_row": null,
            "grid_template_areas": null,
            "grid_template_columns": null,
            "grid_template_rows": null,
            "height": null,
            "justify_content": null,
            "justify_items": null,
            "left": null,
            "margin": null,
            "max_height": null,
            "max_width": null,
            "min_height": null,
            "min_width": null,
            "object_fit": null,
            "object_position": null,
            "order": null,
            "overflow": null,
            "overflow_x": null,
            "overflow_y": null,
            "padding": null,
            "right": null,
            "top": null,
            "visibility": null,
            "width": null
          }
        },
        "2b958704889948b585a3833194e97390": {
          "model_module": "@jupyter-widgets/base",
          "model_name": "LayoutModel",
          "model_module_version": "1.2.0",
          "state": {
            "_model_module": "@jupyter-widgets/base",
            "_model_module_version": "1.2.0",
            "_model_name": "LayoutModel",
            "_view_count": null,
            "_view_module": "@jupyter-widgets/base",
            "_view_module_version": "1.2.0",
            "_view_name": "LayoutView",
            "align_content": null,
            "align_items": null,
            "align_self": null,
            "border": null,
            "bottom": null,
            "display": null,
            "flex": null,
            "flex_flow": null,
            "grid_area": null,
            "grid_auto_columns": null,
            "grid_auto_flow": null,
            "grid_auto_rows": null,
            "grid_column": null,
            "grid_gap": null,
            "grid_row": null,
            "grid_template_areas": null,
            "grid_template_columns": null,
            "grid_template_rows": null,
            "height": null,
            "justify_content": null,
            "justify_items": null,
            "left": null,
            "margin": null,
            "max_height": null,
            "max_width": null,
            "min_height": null,
            "min_width": null,
            "object_fit": null,
            "object_position": null,
            "order": null,
            "overflow": null,
            "overflow_x": null,
            "overflow_y": null,
            "padding": null,
            "right": null,
            "top": null,
            "visibility": null,
            "width": null
          }
        },
        "e8686a1db3eb488790403bd752bc59d7": {
          "model_module": "@jupyter-widgets/controls",
          "model_name": "DescriptionStyleModel",
          "model_module_version": "1.5.0",
          "state": {
            "_model_module": "@jupyter-widgets/controls",
            "_model_module_version": "1.5.0",
            "_model_name": "DescriptionStyleModel",
            "_view_count": null,
            "_view_module": "@jupyter-widgets/base",
            "_view_module_version": "1.2.0",
            "_view_name": "StyleView",
            "description_width": ""
          }
        },
        "ee6f42b9452d439daf85fe995d8a8f08": {
          "model_module": "@jupyter-widgets/base",
          "model_name": "LayoutModel",
          "model_module_version": "1.2.0",
          "state": {
            "_model_module": "@jupyter-widgets/base",
            "_model_module_version": "1.2.0",
            "_model_name": "LayoutModel",
            "_view_count": null,
            "_view_module": "@jupyter-widgets/base",
            "_view_module_version": "1.2.0",
            "_view_name": "LayoutView",
            "align_content": null,
            "align_items": null,
            "align_self": null,
            "border": null,
            "bottom": null,
            "display": null,
            "flex": null,
            "flex_flow": null,
            "grid_area": null,
            "grid_auto_columns": null,
            "grid_auto_flow": null,
            "grid_auto_rows": null,
            "grid_column": null,
            "grid_gap": null,
            "grid_row": null,
            "grid_template_areas": null,
            "grid_template_columns": null,
            "grid_template_rows": null,
            "height": null,
            "justify_content": null,
            "justify_items": null,
            "left": null,
            "margin": null,
            "max_height": null,
            "max_width": null,
            "min_height": null,
            "min_width": null,
            "object_fit": null,
            "object_position": null,
            "order": null,
            "overflow": null,
            "overflow_x": null,
            "overflow_y": null,
            "padding": null,
            "right": null,
            "top": null,
            "visibility": null,
            "width": null
          }
        },
        "a04ba75a73a641f69b4d9003192379c6": {
          "model_module": "@jupyter-widgets/controls",
          "model_name": "ProgressStyleModel",
          "model_module_version": "1.5.0",
          "state": {
            "_model_module": "@jupyter-widgets/controls",
            "_model_module_version": "1.5.0",
            "_model_name": "ProgressStyleModel",
            "_view_count": null,
            "_view_module": "@jupyter-widgets/base",
            "_view_module_version": "1.2.0",
            "_view_name": "StyleView",
            "bar_color": null,
            "description_width": ""
          }
        },
        "c4cc79a98865424ea85d853548c64393": {
          "model_module": "@jupyter-widgets/base",
          "model_name": "LayoutModel",
          "model_module_version": "1.2.0",
          "state": {
            "_model_module": "@jupyter-widgets/base",
            "_model_module_version": "1.2.0",
            "_model_name": "LayoutModel",
            "_view_count": null,
            "_view_module": "@jupyter-widgets/base",
            "_view_module_version": "1.2.0",
            "_view_name": "LayoutView",
            "align_content": null,
            "align_items": null,
            "align_self": null,
            "border": null,
            "bottom": null,
            "display": null,
            "flex": null,
            "flex_flow": null,
            "grid_area": null,
            "grid_auto_columns": null,
            "grid_auto_flow": null,
            "grid_auto_rows": null,
            "grid_column": null,
            "grid_gap": null,
            "grid_row": null,
            "grid_template_areas": null,
            "grid_template_columns": null,
            "grid_template_rows": null,
            "height": null,
            "justify_content": null,
            "justify_items": null,
            "left": null,
            "margin": null,
            "max_height": null,
            "max_width": null,
            "min_height": null,
            "min_width": null,
            "object_fit": null,
            "object_position": null,
            "order": null,
            "overflow": null,
            "overflow_x": null,
            "overflow_y": null,
            "padding": null,
            "right": null,
            "top": null,
            "visibility": null,
            "width": null
          }
        },
        "0490b620bb15457db2554eadbab5ebb7": {
          "model_module": "@jupyter-widgets/controls",
          "model_name": "DescriptionStyleModel",
          "model_module_version": "1.5.0",
          "state": {
            "_model_module": "@jupyter-widgets/controls",
            "_model_module_version": "1.5.0",
            "_model_name": "DescriptionStyleModel",
            "_view_count": null,
            "_view_module": "@jupyter-widgets/base",
            "_view_module_version": "1.2.0",
            "_view_name": "StyleView",
            "description_width": ""
          }
        },
        "abef2f0a72194a1c876571115274573a": {
          "model_module": "@jupyter-widgets/controls",
          "model_name": "HBoxModel",
          "model_module_version": "1.5.0",
          "state": {
            "_dom_classes": [],
            "_model_module": "@jupyter-widgets/controls",
            "_model_module_version": "1.5.0",
            "_model_name": "HBoxModel",
            "_view_count": null,
            "_view_module": "@jupyter-widgets/controls",
            "_view_module_version": "1.5.0",
            "_view_name": "HBoxView",
            "box_style": "",
            "children": [
              "IPY_MODEL_7c3ec26d5adf4e3798a0f8cabb16b268",
              "IPY_MODEL_829f3b552751497d8c2859c8f40bb4d0",
              "IPY_MODEL_37706f6934674d51b8cc1048cb63a896"
            ],
            "layout": "IPY_MODEL_a725f63b34d94c3686342b6dfd664a70"
          }
        },
        "7c3ec26d5adf4e3798a0f8cabb16b268": {
          "model_module": "@jupyter-widgets/controls",
          "model_name": "HTMLModel",
          "model_module_version": "1.5.0",
          "state": {
            "_dom_classes": [],
            "_model_module": "@jupyter-widgets/controls",
            "_model_module_version": "1.5.0",
            "_model_name": "HTMLModel",
            "_view_count": null,
            "_view_module": "@jupyter-widgets/controls",
            "_view_module_version": "1.5.0",
            "_view_name": "HTMLView",
            "description": "",
            "description_tooltip": null,
            "layout": "IPY_MODEL_a19899aab589473bb89a4b4916f4ffbf",
            "placeholder": "​",
            "style": "IPY_MODEL_6a1fa036a27f4abd9387fcd67a3e51d8",
            "value": "Downloading: 100%"
          }
        },
        "829f3b552751497d8c2859c8f40bb4d0": {
          "model_module": "@jupyter-widgets/controls",
          "model_name": "FloatProgressModel",
          "model_module_version": "1.5.0",
          "state": {
            "_dom_classes": [],
            "_model_module": "@jupyter-widgets/controls",
            "_model_module_version": "1.5.0",
            "_model_name": "FloatProgressModel",
            "_view_count": null,
            "_view_module": "@jupyter-widgets/controls",
            "_view_module_version": "1.5.0",
            "_view_name": "ProgressView",
            "bar_style": "success",
            "description": "",
            "description_tooltip": null,
            "layout": "IPY_MODEL_dd318e8eae2f4cbd852c87199f265659",
            "max": 466062,
            "min": 0,
            "orientation": "horizontal",
            "style": "IPY_MODEL_633da4c92a4e440aa2dde58a16ba7a13",
            "value": 466062
          }
        },
        "37706f6934674d51b8cc1048cb63a896": {
          "model_module": "@jupyter-widgets/controls",
          "model_name": "HTMLModel",
          "model_module_version": "1.5.0",
          "state": {
            "_dom_classes": [],
            "_model_module": "@jupyter-widgets/controls",
            "_model_module_version": "1.5.0",
            "_model_name": "HTMLModel",
            "_view_count": null,
            "_view_module": "@jupyter-widgets/controls",
            "_view_module_version": "1.5.0",
            "_view_name": "HTMLView",
            "description": "",
            "description_tooltip": null,
            "layout": "IPY_MODEL_b0785643c7f147bf96035931be5ed219",
            "placeholder": "​",
            "style": "IPY_MODEL_02a7a100cfac4b1fbe73d8e2f1a579fa",
            "value": " 455k/455k [00:00&lt;00:00, 1.36MB/s]"
          }
        },
        "a725f63b34d94c3686342b6dfd664a70": {
          "model_module": "@jupyter-widgets/base",
          "model_name": "LayoutModel",
          "model_module_version": "1.2.0",
          "state": {
            "_model_module": "@jupyter-widgets/base",
            "_model_module_version": "1.2.0",
            "_model_name": "LayoutModel",
            "_view_count": null,
            "_view_module": "@jupyter-widgets/base",
            "_view_module_version": "1.2.0",
            "_view_name": "LayoutView",
            "align_content": null,
            "align_items": null,
            "align_self": null,
            "border": null,
            "bottom": null,
            "display": null,
            "flex": null,
            "flex_flow": null,
            "grid_area": null,
            "grid_auto_columns": null,
            "grid_auto_flow": null,
            "grid_auto_rows": null,
            "grid_column": null,
            "grid_gap": null,
            "grid_row": null,
            "grid_template_areas": null,
            "grid_template_columns": null,
            "grid_template_rows": null,
            "height": null,
            "justify_content": null,
            "justify_items": null,
            "left": null,
            "margin": null,
            "max_height": null,
            "max_width": null,
            "min_height": null,
            "min_width": null,
            "object_fit": null,
            "object_position": null,
            "order": null,
            "overflow": null,
            "overflow_x": null,
            "overflow_y": null,
            "padding": null,
            "right": null,
            "top": null,
            "visibility": null,
            "width": null
          }
        },
        "a19899aab589473bb89a4b4916f4ffbf": {
          "model_module": "@jupyter-widgets/base",
          "model_name": "LayoutModel",
          "model_module_version": "1.2.0",
          "state": {
            "_model_module": "@jupyter-widgets/base",
            "_model_module_version": "1.2.0",
            "_model_name": "LayoutModel",
            "_view_count": null,
            "_view_module": "@jupyter-widgets/base",
            "_view_module_version": "1.2.0",
            "_view_name": "LayoutView",
            "align_content": null,
            "align_items": null,
            "align_self": null,
            "border": null,
            "bottom": null,
            "display": null,
            "flex": null,
            "flex_flow": null,
            "grid_area": null,
            "grid_auto_columns": null,
            "grid_auto_flow": null,
            "grid_auto_rows": null,
            "grid_column": null,
            "grid_gap": null,
            "grid_row": null,
            "grid_template_areas": null,
            "grid_template_columns": null,
            "grid_template_rows": null,
            "height": null,
            "justify_content": null,
            "justify_items": null,
            "left": null,
            "margin": null,
            "max_height": null,
            "max_width": null,
            "min_height": null,
            "min_width": null,
            "object_fit": null,
            "object_position": null,
            "order": null,
            "overflow": null,
            "overflow_x": null,
            "overflow_y": null,
            "padding": null,
            "right": null,
            "top": null,
            "visibility": null,
            "width": null
          }
        },
        "6a1fa036a27f4abd9387fcd67a3e51d8": {
          "model_module": "@jupyter-widgets/controls",
          "model_name": "DescriptionStyleModel",
          "model_module_version": "1.5.0",
          "state": {
            "_model_module": "@jupyter-widgets/controls",
            "_model_module_version": "1.5.0",
            "_model_name": "DescriptionStyleModel",
            "_view_count": null,
            "_view_module": "@jupyter-widgets/base",
            "_view_module_version": "1.2.0",
            "_view_name": "StyleView",
            "description_width": ""
          }
        },
        "dd318e8eae2f4cbd852c87199f265659": {
          "model_module": "@jupyter-widgets/base",
          "model_name": "LayoutModel",
          "model_module_version": "1.2.0",
          "state": {
            "_model_module": "@jupyter-widgets/base",
            "_model_module_version": "1.2.0",
            "_model_name": "LayoutModel",
            "_view_count": null,
            "_view_module": "@jupyter-widgets/base",
            "_view_module_version": "1.2.0",
            "_view_name": "LayoutView",
            "align_content": null,
            "align_items": null,
            "align_self": null,
            "border": null,
            "bottom": null,
            "display": null,
            "flex": null,
            "flex_flow": null,
            "grid_area": null,
            "grid_auto_columns": null,
            "grid_auto_flow": null,
            "grid_auto_rows": null,
            "grid_column": null,
            "grid_gap": null,
            "grid_row": null,
            "grid_template_areas": null,
            "grid_template_columns": null,
            "grid_template_rows": null,
            "height": null,
            "justify_content": null,
            "justify_items": null,
            "left": null,
            "margin": null,
            "max_height": null,
            "max_width": null,
            "min_height": null,
            "min_width": null,
            "object_fit": null,
            "object_position": null,
            "order": null,
            "overflow": null,
            "overflow_x": null,
            "overflow_y": null,
            "padding": null,
            "right": null,
            "top": null,
            "visibility": null,
            "width": null
          }
        },
        "633da4c92a4e440aa2dde58a16ba7a13": {
          "model_module": "@jupyter-widgets/controls",
          "model_name": "ProgressStyleModel",
          "model_module_version": "1.5.0",
          "state": {
            "_model_module": "@jupyter-widgets/controls",
            "_model_module_version": "1.5.0",
            "_model_name": "ProgressStyleModel",
            "_view_count": null,
            "_view_module": "@jupyter-widgets/base",
            "_view_module_version": "1.2.0",
            "_view_name": "StyleView",
            "bar_color": null,
            "description_width": ""
          }
        },
        "b0785643c7f147bf96035931be5ed219": {
          "model_module": "@jupyter-widgets/base",
          "model_name": "LayoutModel",
          "model_module_version": "1.2.0",
          "state": {
            "_model_module": "@jupyter-widgets/base",
            "_model_module_version": "1.2.0",
            "_model_name": "LayoutModel",
            "_view_count": null,
            "_view_module": "@jupyter-widgets/base",
            "_view_module_version": "1.2.0",
            "_view_name": "LayoutView",
            "align_content": null,
            "align_items": null,
            "align_self": null,
            "border": null,
            "bottom": null,
            "display": null,
            "flex": null,
            "flex_flow": null,
            "grid_area": null,
            "grid_auto_columns": null,
            "grid_auto_flow": null,
            "grid_auto_rows": null,
            "grid_column": null,
            "grid_gap": null,
            "grid_row": null,
            "grid_template_areas": null,
            "grid_template_columns": null,
            "grid_template_rows": null,
            "height": null,
            "justify_content": null,
            "justify_items": null,
            "left": null,
            "margin": null,
            "max_height": null,
            "max_width": null,
            "min_height": null,
            "min_width": null,
            "object_fit": null,
            "object_position": null,
            "order": null,
            "overflow": null,
            "overflow_x": null,
            "overflow_y": null,
            "padding": null,
            "right": null,
            "top": null,
            "visibility": null,
            "width": null
          }
        },
        "02a7a100cfac4b1fbe73d8e2f1a579fa": {
          "model_module": "@jupyter-widgets/controls",
          "model_name": "DescriptionStyleModel",
          "model_module_version": "1.5.0",
          "state": {
            "_model_module": "@jupyter-widgets/controls",
            "_model_module_version": "1.5.0",
            "_model_name": "DescriptionStyleModel",
            "_view_count": null,
            "_view_module": "@jupyter-widgets/base",
            "_view_module_version": "1.2.0",
            "_view_name": "StyleView",
            "description_width": ""
          }
        },
        "f73b3c56cb71439a9e1ea36c3794131a": {
          "model_module": "@jupyter-widgets/controls",
          "model_name": "HBoxModel",
          "model_module_version": "1.5.0",
          "state": {
            "_dom_classes": [],
            "_model_module": "@jupyter-widgets/controls",
            "_model_module_version": "1.5.0",
            "_model_name": "HBoxModel",
            "_view_count": null,
            "_view_module": "@jupyter-widgets/controls",
            "_view_module_version": "1.5.0",
            "_view_name": "HBoxView",
            "box_style": "",
            "children": [
              "IPY_MODEL_ca15a8f100b440aa8c23564a5a9ec0c2",
              "IPY_MODEL_48b59d6513e74ea992b017dea798f9c1",
              "IPY_MODEL_a0091588a54546ca8f4ad03c41386978"
            ],
            "layout": "IPY_MODEL_5a6094293aed448792e0671afd771fab"
          }
        },
        "ca15a8f100b440aa8c23564a5a9ec0c2": {
          "model_module": "@jupyter-widgets/controls",
          "model_name": "HTMLModel",
          "model_module_version": "1.5.0",
          "state": {
            "_dom_classes": [],
            "_model_module": "@jupyter-widgets/controls",
            "_model_module_version": "1.5.0",
            "_model_name": "HTMLModel",
            "_view_count": null,
            "_view_module": "@jupyter-widgets/controls",
            "_view_module_version": "1.5.0",
            "_view_name": "HTMLView",
            "description": "",
            "description_tooltip": null,
            "layout": "IPY_MODEL_ae77a06517d341fcb23708b4806b9041",
            "placeholder": "​",
            "style": "IPY_MODEL_2c3ede20af464b02b02578bafed361f2",
            "value": "Downloading: 100%"
          }
        },
        "48b59d6513e74ea992b017dea798f9c1": {
          "model_module": "@jupyter-widgets/controls",
          "model_name": "FloatProgressModel",
          "model_module_version": "1.5.0",
          "state": {
            "_dom_classes": [],
            "_model_module": "@jupyter-widgets/controls",
            "_model_module_version": "1.5.0",
            "_model_name": "FloatProgressModel",
            "_view_count": null,
            "_view_module": "@jupyter-widgets/controls",
            "_view_module_version": "1.5.0",
            "_view_name": "ProgressView",
            "bar_style": "success",
            "description": "",
            "description_tooltip": null,
            "layout": "IPY_MODEL_674ecea5608b49778cb02b4af19cd41c",
            "max": 536063208,
            "min": 0,
            "orientation": "horizontal",
            "style": "IPY_MODEL_f5f1e22b7620426e9fc1ec701965e09d",
            "value": 536063208
          }
        },
        "a0091588a54546ca8f4ad03c41386978": {
          "model_module": "@jupyter-widgets/controls",
          "model_name": "HTMLModel",
          "model_module_version": "1.5.0",
          "state": {
            "_dom_classes": [],
            "_model_module": "@jupyter-widgets/controls",
            "_model_module_version": "1.5.0",
            "_model_name": "HTMLModel",
            "_view_count": null,
            "_view_module": "@jupyter-widgets/controls",
            "_view_module_version": "1.5.0",
            "_view_name": "HTMLView",
            "description": "",
            "description_tooltip": null,
            "layout": "IPY_MODEL_bcf7d42a3560416dbdeb8a48ab4f7df0",
            "placeholder": "​",
            "style": "IPY_MODEL_4892a80929b644cabbc8b5e510481877",
            "value": " 511M/511M [00:11&lt;00:00, 48.5MB/s]"
          }
        },
        "5a6094293aed448792e0671afd771fab": {
          "model_module": "@jupyter-widgets/base",
          "model_name": "LayoutModel",
          "model_module_version": "1.2.0",
          "state": {
            "_model_module": "@jupyter-widgets/base",
            "_model_module_version": "1.2.0",
            "_model_name": "LayoutModel",
            "_view_count": null,
            "_view_module": "@jupyter-widgets/base",
            "_view_module_version": "1.2.0",
            "_view_name": "LayoutView",
            "align_content": null,
            "align_items": null,
            "align_self": null,
            "border": null,
            "bottom": null,
            "display": null,
            "flex": null,
            "flex_flow": null,
            "grid_area": null,
            "grid_auto_columns": null,
            "grid_auto_flow": null,
            "grid_auto_rows": null,
            "grid_column": null,
            "grid_gap": null,
            "grid_row": null,
            "grid_template_areas": null,
            "grid_template_columns": null,
            "grid_template_rows": null,
            "height": null,
            "justify_content": null,
            "justify_items": null,
            "left": null,
            "margin": null,
            "max_height": null,
            "max_width": null,
            "min_height": null,
            "min_width": null,
            "object_fit": null,
            "object_position": null,
            "order": null,
            "overflow": null,
            "overflow_x": null,
            "overflow_y": null,
            "padding": null,
            "right": null,
            "top": null,
            "visibility": null,
            "width": null
          }
        },
        "ae77a06517d341fcb23708b4806b9041": {
          "model_module": "@jupyter-widgets/base",
          "model_name": "LayoutModel",
          "model_module_version": "1.2.0",
          "state": {
            "_model_module": "@jupyter-widgets/base",
            "_model_module_version": "1.2.0",
            "_model_name": "LayoutModel",
            "_view_count": null,
            "_view_module": "@jupyter-widgets/base",
            "_view_module_version": "1.2.0",
            "_view_name": "LayoutView",
            "align_content": null,
            "align_items": null,
            "align_self": null,
            "border": null,
            "bottom": null,
            "display": null,
            "flex": null,
            "flex_flow": null,
            "grid_area": null,
            "grid_auto_columns": null,
            "grid_auto_flow": null,
            "grid_auto_rows": null,
            "grid_column": null,
            "grid_gap": null,
            "grid_row": null,
            "grid_template_areas": null,
            "grid_template_columns": null,
            "grid_template_rows": null,
            "height": null,
            "justify_content": null,
            "justify_items": null,
            "left": null,
            "margin": null,
            "max_height": null,
            "max_width": null,
            "min_height": null,
            "min_width": null,
            "object_fit": null,
            "object_position": null,
            "order": null,
            "overflow": null,
            "overflow_x": null,
            "overflow_y": null,
            "padding": null,
            "right": null,
            "top": null,
            "visibility": null,
            "width": null
          }
        },
        "2c3ede20af464b02b02578bafed361f2": {
          "model_module": "@jupyter-widgets/controls",
          "model_name": "DescriptionStyleModel",
          "model_module_version": "1.5.0",
          "state": {
            "_model_module": "@jupyter-widgets/controls",
            "_model_module_version": "1.5.0",
            "_model_name": "DescriptionStyleModel",
            "_view_count": null,
            "_view_module": "@jupyter-widgets/base",
            "_view_module_version": "1.2.0",
            "_view_name": "StyleView",
            "description_width": ""
          }
        },
        "674ecea5608b49778cb02b4af19cd41c": {
          "model_module": "@jupyter-widgets/base",
          "model_name": "LayoutModel",
          "model_module_version": "1.2.0",
          "state": {
            "_model_module": "@jupyter-widgets/base",
            "_model_module_version": "1.2.0",
            "_model_name": "LayoutModel",
            "_view_count": null,
            "_view_module": "@jupyter-widgets/base",
            "_view_module_version": "1.2.0",
            "_view_name": "LayoutView",
            "align_content": null,
            "align_items": null,
            "align_self": null,
            "border": null,
            "bottom": null,
            "display": null,
            "flex": null,
            "flex_flow": null,
            "grid_area": null,
            "grid_auto_columns": null,
            "grid_auto_flow": null,
            "grid_auto_rows": null,
            "grid_column": null,
            "grid_gap": null,
            "grid_row": null,
            "grid_template_areas": null,
            "grid_template_columns": null,
            "grid_template_rows": null,
            "height": null,
            "justify_content": null,
            "justify_items": null,
            "left": null,
            "margin": null,
            "max_height": null,
            "max_width": null,
            "min_height": null,
            "min_width": null,
            "object_fit": null,
            "object_position": null,
            "order": null,
            "overflow": null,
            "overflow_x": null,
            "overflow_y": null,
            "padding": null,
            "right": null,
            "top": null,
            "visibility": null,
            "width": null
          }
        },
        "f5f1e22b7620426e9fc1ec701965e09d": {
          "model_module": "@jupyter-widgets/controls",
          "model_name": "ProgressStyleModel",
          "model_module_version": "1.5.0",
          "state": {
            "_model_module": "@jupyter-widgets/controls",
            "_model_module_version": "1.5.0",
            "_model_name": "ProgressStyleModel",
            "_view_count": null,
            "_view_module": "@jupyter-widgets/base",
            "_view_module_version": "1.2.0",
            "_view_name": "StyleView",
            "bar_color": null,
            "description_width": ""
          }
        },
        "bcf7d42a3560416dbdeb8a48ab4f7df0": {
          "model_module": "@jupyter-widgets/base",
          "model_name": "LayoutModel",
          "model_module_version": "1.2.0",
          "state": {
            "_model_module": "@jupyter-widgets/base",
            "_model_module_version": "1.2.0",
            "_model_name": "LayoutModel",
            "_view_count": null,
            "_view_module": "@jupyter-widgets/base",
            "_view_module_version": "1.2.0",
            "_view_name": "LayoutView",
            "align_content": null,
            "align_items": null,
            "align_self": null,
            "border": null,
            "bottom": null,
            "display": null,
            "flex": null,
            "flex_flow": null,
            "grid_area": null,
            "grid_auto_columns": null,
            "grid_auto_flow": null,
            "grid_auto_rows": null,
            "grid_column": null,
            "grid_gap": null,
            "grid_row": null,
            "grid_template_areas": null,
            "grid_template_columns": null,
            "grid_template_rows": null,
            "height": null,
            "justify_content": null,
            "justify_items": null,
            "left": null,
            "margin": null,
            "max_height": null,
            "max_width": null,
            "min_height": null,
            "min_width": null,
            "object_fit": null,
            "object_position": null,
            "order": null,
            "overflow": null,
            "overflow_x": null,
            "overflow_y": null,
            "padding": null,
            "right": null,
            "top": null,
            "visibility": null,
            "width": null
          }
        },
        "4892a80929b644cabbc8b5e510481877": {
          "model_module": "@jupyter-widgets/controls",
          "model_name": "DescriptionStyleModel",
          "model_module_version": "1.5.0",
          "state": {
            "_model_module": "@jupyter-widgets/controls",
            "_model_module_version": "1.5.0",
            "_model_name": "DescriptionStyleModel",
            "_view_count": null,
            "_view_module": "@jupyter-widgets/base",
            "_view_module_version": "1.2.0",
            "_view_name": "StyleView",
            "description_width": ""
          }
        }
      }
    }
  },
  "cells": [
    {
      "cell_type": "code",
      "metadata": {
        "colab": {
          "base_uri": "https://localhost:8080/"
        },
        "id": "0lqEsXRpVz7z",
        "outputId": "0c7fb11d-daa5-497a-a1bb-7d8391d270b6"
      },
      "source": [
        "!pip install optuna\n",
        "!pip3 install transformers\n",
        "!pip install SentencePiece\n",
        "!pip install sacremoses"
      ],
      "execution_count": 1,
      "outputs": [
        {
          "output_type": "stream",
          "name": "stdout",
          "text": [
            "Looking in indexes: https://pypi.org/simple, https://us-python.pkg.dev/colab-wheels/public/simple/\n",
            "Requirement already satisfied: optuna in /usr/local/lib/python3.7/dist-packages (2.10.0)\n",
            "Requirement already satisfied: numpy in /usr/local/lib/python3.7/dist-packages (from optuna) (1.21.6)\n",
            "Requirement already satisfied: alembic in /usr/local/lib/python3.7/dist-packages (from optuna) (1.8.0)\n",
            "Requirement already satisfied: colorlog in /usr/local/lib/python3.7/dist-packages (from optuna) (6.6.0)\n",
            "Requirement already satisfied: cliff in /usr/local/lib/python3.7/dist-packages (from optuna) (3.10.1)\n",
            "Requirement already satisfied: cmaes>=0.8.2 in /usr/local/lib/python3.7/dist-packages (from optuna) (0.8.2)\n",
            "Requirement already satisfied: scipy!=1.4.0 in /usr/local/lib/python3.7/dist-packages (from optuna) (1.4.1)\n",
            "Requirement already satisfied: sqlalchemy>=1.1.0 in /usr/local/lib/python3.7/dist-packages (from optuna) (1.4.36)\n",
            "Requirement already satisfied: PyYAML in /usr/local/lib/python3.7/dist-packages (from optuna) (6.0)\n",
            "Requirement already satisfied: packaging>=20.0 in /usr/local/lib/python3.7/dist-packages (from optuna) (21.3)\n",
            "Requirement already satisfied: tqdm in /usr/local/lib/python3.7/dist-packages (from optuna) (4.64.0)\n",
            "Requirement already satisfied: pyparsing!=3.0.5,>=2.0.2 in /usr/local/lib/python3.7/dist-packages (from packaging>=20.0->optuna) (3.0.9)\n",
            "Requirement already satisfied: importlib-metadata in /usr/local/lib/python3.7/dist-packages (from sqlalchemy>=1.1.0->optuna) (4.11.4)\n",
            "Requirement already satisfied: greenlet!=0.4.17 in /usr/local/lib/python3.7/dist-packages (from sqlalchemy>=1.1.0->optuna) (1.1.2)\n",
            "Requirement already satisfied: importlib-resources in /usr/local/lib/python3.7/dist-packages (from alembic->optuna) (5.7.1)\n",
            "Requirement already satisfied: Mako in /usr/local/lib/python3.7/dist-packages (from alembic->optuna) (1.2.0)\n",
            "Requirement already satisfied: cmd2>=1.0.0 in /usr/local/lib/python3.7/dist-packages (from cliff->optuna) (2.4.1)\n",
            "Requirement already satisfied: stevedore>=2.0.1 in /usr/local/lib/python3.7/dist-packages (from cliff->optuna) (3.5.0)\n",
            "Requirement already satisfied: pbr!=2.1.0,>=2.0.0 in /usr/local/lib/python3.7/dist-packages (from cliff->optuna) (5.9.0)\n",
            "Requirement already satisfied: PrettyTable>=0.7.2 in /usr/local/lib/python3.7/dist-packages (from cliff->optuna) (3.3.0)\n",
            "Requirement already satisfied: autopage>=0.4.0 in /usr/local/lib/python3.7/dist-packages (from cliff->optuna) (0.5.1)\n",
            "Requirement already satisfied: pyperclip>=1.6 in /usr/local/lib/python3.7/dist-packages (from cmd2>=1.0.0->cliff->optuna) (1.8.2)\n",
            "Requirement already satisfied: typing-extensions in /usr/local/lib/python3.7/dist-packages (from cmd2>=1.0.0->cliff->optuna) (4.2.0)\n",
            "Requirement already satisfied: attrs>=16.3.0 in /usr/local/lib/python3.7/dist-packages (from cmd2>=1.0.0->cliff->optuna) (21.4.0)\n",
            "Requirement already satisfied: wcwidth>=0.1.7 in /usr/local/lib/python3.7/dist-packages (from cmd2>=1.0.0->cliff->optuna) (0.2.5)\n",
            "Requirement already satisfied: zipp>=0.5 in /usr/local/lib/python3.7/dist-packages (from importlib-metadata->sqlalchemy>=1.1.0->optuna) (3.8.0)\n",
            "Requirement already satisfied: MarkupSafe>=0.9.2 in /usr/local/lib/python3.7/dist-packages (from Mako->alembic->optuna) (2.0.1)\n",
            "Looking in indexes: https://pypi.org/simple, https://us-python.pkg.dev/colab-wheels/public/simple/\n",
            "Requirement already satisfied: transformers in /usr/local/lib/python3.7/dist-packages (4.19.2)\n",
            "Requirement already satisfied: regex!=2019.12.17 in /usr/local/lib/python3.7/dist-packages (from transformers) (2019.12.20)\n",
            "Requirement already satisfied: importlib-metadata in /usr/local/lib/python3.7/dist-packages (from transformers) (4.11.4)\n",
            "Requirement already satisfied: pyyaml>=5.1 in /usr/local/lib/python3.7/dist-packages (from transformers) (6.0)\n",
            "Requirement already satisfied: requests in /usr/local/lib/python3.7/dist-packages (from transformers) (2.23.0)\n",
            "Requirement already satisfied: tqdm>=4.27 in /usr/local/lib/python3.7/dist-packages (from transformers) (4.64.0)\n",
            "Requirement already satisfied: tokenizers!=0.11.3,<0.13,>=0.11.1 in /usr/local/lib/python3.7/dist-packages (from transformers) (0.12.1)\n",
            "Requirement already satisfied: filelock in /usr/local/lib/python3.7/dist-packages (from transformers) (3.7.0)\n",
            "Requirement already satisfied: huggingface-hub<1.0,>=0.1.0 in /usr/local/lib/python3.7/dist-packages (from transformers) (0.7.0)\n",
            "Requirement already satisfied: numpy>=1.17 in /usr/local/lib/python3.7/dist-packages (from transformers) (1.21.6)\n",
            "Requirement already satisfied: packaging>=20.0 in /usr/local/lib/python3.7/dist-packages (from transformers) (21.3)\n",
            "Requirement already satisfied: typing-extensions>=3.7.4.3 in /usr/local/lib/python3.7/dist-packages (from huggingface-hub<1.0,>=0.1.0->transformers) (4.2.0)\n",
            "Requirement already satisfied: pyparsing!=3.0.5,>=2.0.2 in /usr/local/lib/python3.7/dist-packages (from packaging>=20.0->transformers) (3.0.9)\n",
            "Requirement already satisfied: zipp>=0.5 in /usr/local/lib/python3.7/dist-packages (from importlib-metadata->transformers) (3.8.0)\n",
            "Requirement already satisfied: certifi>=2017.4.17 in /usr/local/lib/python3.7/dist-packages (from requests->transformers) (2022.5.18.1)\n",
            "Requirement already satisfied: chardet<4,>=3.0.2 in /usr/local/lib/python3.7/dist-packages (from requests->transformers) (3.0.4)\n",
            "Requirement already satisfied: urllib3!=1.25.0,!=1.25.1,<1.26,>=1.21.1 in /usr/local/lib/python3.7/dist-packages (from requests->transformers) (1.24.3)\n",
            "Requirement already satisfied: idna<3,>=2.5 in /usr/local/lib/python3.7/dist-packages (from requests->transformers) (2.10)\n",
            "Looking in indexes: https://pypi.org/simple, https://us-python.pkg.dev/colab-wheels/public/simple/\n",
            "Requirement already satisfied: SentencePiece in /usr/local/lib/python3.7/dist-packages (0.1.96)\n",
            "Looking in indexes: https://pypi.org/simple, https://us-python.pkg.dev/colab-wheels/public/simple/\n",
            "Collecting sacremoses\n",
            "  Downloading sacremoses-0.0.53.tar.gz (880 kB)\n",
            "\u001b[K     |████████████████████████████████| 880 kB 5.3 MB/s \n",
            "\u001b[?25hRequirement already satisfied: regex in /usr/local/lib/python3.7/dist-packages (from sacremoses) (2019.12.20)\n",
            "Requirement already satisfied: six in /usr/local/lib/python3.7/dist-packages (from sacremoses) (1.15.0)\n",
            "Requirement already satisfied: click in /usr/local/lib/python3.7/dist-packages (from sacremoses) (7.1.2)\n",
            "Requirement already satisfied: joblib in /usr/local/lib/python3.7/dist-packages (from sacremoses) (1.1.0)\n",
            "Requirement already satisfied: tqdm in /usr/local/lib/python3.7/dist-packages (from sacremoses) (4.64.0)\n",
            "Building wheels for collected packages: sacremoses\n",
            "  Building wheel for sacremoses (setup.py) ... \u001b[?25l\u001b[?25hdone\n",
            "  Created wheel for sacremoses: filename=sacremoses-0.0.53-py3-none-any.whl size=895260 sha256=b21afa95dedbcbcc019b30fc5c47cad9089a75fe8924fba14e6c6682c6f88f24\n",
            "  Stored in directory: /root/.cache/pip/wheels/87/39/dd/a83eeef36d0bf98e7a4d1933a4ad2d660295a40613079bafc9\n",
            "Successfully built sacremoses\n",
            "Installing collected packages: sacremoses\n",
            "Successfully installed sacremoses-0.0.53\n"
          ]
        }
      ]
    },
    {
      "cell_type": "code",
      "metadata": {
        "colab": {
          "base_uri": "https://localhost:8080/"
        },
        "id": "fSzslNtYNP7q",
        "outputId": "4c3d5fa9-1e67-4680-b43a-e76b55f0c4b5"
      },
      "source": [
        "import tensorflow as tf\n",
        "\n",
        "# Detect hardware, return appropriate distribution strategy\n",
        "try:\n",
        "    # TPU detection. No parameters necessary if TPU_NAME environment variable is\n",
        "    # set: this is always the case on Kaggle.\n",
        "    tpu = tf.distribute.cluster_resolver.TPUClusterResolver()\n",
        "    print('Running on TPU ', tpu.master())\n",
        "except ValueError:\n",
        "    tpu = None\n",
        "\n",
        "if tpu:\n",
        "    tf.config.experimental_connect_to_cluster(tpu)\n",
        "    tf.tpu.experimental.initialize_tpu_system(tpu)\n",
        "    strategy = tf.distribute.experimental.TPUStrategy(tpu)\n",
        "else:\n",
        "    # Default distribution strategy in Tensorflow. Works on CPU and single GPU.\n",
        "    strategy = tf.distribute.get_strategy()\n",
        "\n",
        "print(\"REPLICAS: \", strategy.num_replicas_in_sync)"
      ],
      "execution_count": 2,
      "outputs": [
        {
          "output_type": "stream",
          "name": "stdout",
          "text": [
            "Running on TPU  grpc://10.62.252.146:8470\n",
            "INFO:tensorflow:Deallocate tpu buffers before initializing tpu system.\n"
          ]
        },
        {
          "output_type": "stream",
          "name": "stderr",
          "text": [
            "INFO:tensorflow:Deallocate tpu buffers before initializing tpu system.\n"
          ]
        },
        {
          "output_type": "stream",
          "name": "stdout",
          "text": [
            "INFO:tensorflow:Initializing the TPU system: grpc://10.62.252.146:8470\n"
          ]
        },
        {
          "output_type": "stream",
          "name": "stderr",
          "text": [
            "INFO:tensorflow:Initializing the TPU system: grpc://10.62.252.146:8470\n"
          ]
        },
        {
          "output_type": "stream",
          "name": "stdout",
          "text": [
            "INFO:tensorflow:Finished initializing TPU system.\n"
          ]
        },
        {
          "output_type": "stream",
          "name": "stderr",
          "text": [
            "INFO:tensorflow:Finished initializing TPU system.\n",
            "WARNING:absl:`tf.distribute.experimental.TPUStrategy` is deprecated, please use  the non experimental symbol `tf.distribute.TPUStrategy` instead.\n"
          ]
        },
        {
          "output_type": "stream",
          "name": "stdout",
          "text": [
            "INFO:tensorflow:Found TPU system:\n"
          ]
        },
        {
          "output_type": "stream",
          "name": "stderr",
          "text": [
            "INFO:tensorflow:Found TPU system:\n"
          ]
        },
        {
          "output_type": "stream",
          "name": "stdout",
          "text": [
            "INFO:tensorflow:*** Num TPU Cores: 8\n"
          ]
        },
        {
          "output_type": "stream",
          "name": "stderr",
          "text": [
            "INFO:tensorflow:*** Num TPU Cores: 8\n"
          ]
        },
        {
          "output_type": "stream",
          "name": "stdout",
          "text": [
            "INFO:tensorflow:*** Num TPU Workers: 1\n"
          ]
        },
        {
          "output_type": "stream",
          "name": "stderr",
          "text": [
            "INFO:tensorflow:*** Num TPU Workers: 1\n"
          ]
        },
        {
          "output_type": "stream",
          "name": "stdout",
          "text": [
            "INFO:tensorflow:*** Num TPU Cores Per Worker: 8\n"
          ]
        },
        {
          "output_type": "stream",
          "name": "stderr",
          "text": [
            "INFO:tensorflow:*** Num TPU Cores Per Worker: 8\n"
          ]
        },
        {
          "output_type": "stream",
          "name": "stdout",
          "text": [
            "INFO:tensorflow:*** Available Device: _DeviceAttributes(/job:localhost/replica:0/task:0/device:CPU:0, CPU, 0, 0)\n"
          ]
        },
        {
          "output_type": "stream",
          "name": "stderr",
          "text": [
            "INFO:tensorflow:*** Available Device: _DeviceAttributes(/job:localhost/replica:0/task:0/device:CPU:0, CPU, 0, 0)\n"
          ]
        },
        {
          "output_type": "stream",
          "name": "stdout",
          "text": [
            "INFO:tensorflow:*** Available Device: _DeviceAttributes(/job:worker/replica:0/task:0/device:CPU:0, CPU, 0, 0)\n"
          ]
        },
        {
          "output_type": "stream",
          "name": "stderr",
          "text": [
            "INFO:tensorflow:*** Available Device: _DeviceAttributes(/job:worker/replica:0/task:0/device:CPU:0, CPU, 0, 0)\n"
          ]
        },
        {
          "output_type": "stream",
          "name": "stdout",
          "text": [
            "INFO:tensorflow:*** Available Device: _DeviceAttributes(/job:worker/replica:0/task:0/device:TPU:0, TPU, 0, 0)\n"
          ]
        },
        {
          "output_type": "stream",
          "name": "stderr",
          "text": [
            "INFO:tensorflow:*** Available Device: _DeviceAttributes(/job:worker/replica:0/task:0/device:TPU:0, TPU, 0, 0)\n"
          ]
        },
        {
          "output_type": "stream",
          "name": "stdout",
          "text": [
            "INFO:tensorflow:*** Available Device: _DeviceAttributes(/job:worker/replica:0/task:0/device:TPU:1, TPU, 0, 0)\n"
          ]
        },
        {
          "output_type": "stream",
          "name": "stderr",
          "text": [
            "INFO:tensorflow:*** Available Device: _DeviceAttributes(/job:worker/replica:0/task:0/device:TPU:1, TPU, 0, 0)\n"
          ]
        },
        {
          "output_type": "stream",
          "name": "stdout",
          "text": [
            "INFO:tensorflow:*** Available Device: _DeviceAttributes(/job:worker/replica:0/task:0/device:TPU:2, TPU, 0, 0)\n"
          ]
        },
        {
          "output_type": "stream",
          "name": "stderr",
          "text": [
            "INFO:tensorflow:*** Available Device: _DeviceAttributes(/job:worker/replica:0/task:0/device:TPU:2, TPU, 0, 0)\n"
          ]
        },
        {
          "output_type": "stream",
          "name": "stdout",
          "text": [
            "INFO:tensorflow:*** Available Device: _DeviceAttributes(/job:worker/replica:0/task:0/device:TPU:3, TPU, 0, 0)\n"
          ]
        },
        {
          "output_type": "stream",
          "name": "stderr",
          "text": [
            "INFO:tensorflow:*** Available Device: _DeviceAttributes(/job:worker/replica:0/task:0/device:TPU:3, TPU, 0, 0)\n"
          ]
        },
        {
          "output_type": "stream",
          "name": "stdout",
          "text": [
            "INFO:tensorflow:*** Available Device: _DeviceAttributes(/job:worker/replica:0/task:0/device:TPU:4, TPU, 0, 0)\n"
          ]
        },
        {
          "output_type": "stream",
          "name": "stderr",
          "text": [
            "INFO:tensorflow:*** Available Device: _DeviceAttributes(/job:worker/replica:0/task:0/device:TPU:4, TPU, 0, 0)\n"
          ]
        },
        {
          "output_type": "stream",
          "name": "stdout",
          "text": [
            "INFO:tensorflow:*** Available Device: _DeviceAttributes(/job:worker/replica:0/task:0/device:TPU:5, TPU, 0, 0)\n"
          ]
        },
        {
          "output_type": "stream",
          "name": "stderr",
          "text": [
            "INFO:tensorflow:*** Available Device: _DeviceAttributes(/job:worker/replica:0/task:0/device:TPU:5, TPU, 0, 0)\n"
          ]
        },
        {
          "output_type": "stream",
          "name": "stdout",
          "text": [
            "INFO:tensorflow:*** Available Device: _DeviceAttributes(/job:worker/replica:0/task:0/device:TPU:6, TPU, 0, 0)\n"
          ]
        },
        {
          "output_type": "stream",
          "name": "stderr",
          "text": [
            "INFO:tensorflow:*** Available Device: _DeviceAttributes(/job:worker/replica:0/task:0/device:TPU:6, TPU, 0, 0)\n"
          ]
        },
        {
          "output_type": "stream",
          "name": "stdout",
          "text": [
            "INFO:tensorflow:*** Available Device: _DeviceAttributes(/job:worker/replica:0/task:0/device:TPU:7, TPU, 0, 0)\n"
          ]
        },
        {
          "output_type": "stream",
          "name": "stderr",
          "text": [
            "INFO:tensorflow:*** Available Device: _DeviceAttributes(/job:worker/replica:0/task:0/device:TPU:7, TPU, 0, 0)\n"
          ]
        },
        {
          "output_type": "stream",
          "name": "stdout",
          "text": [
            "INFO:tensorflow:*** Available Device: _DeviceAttributes(/job:worker/replica:0/task:0/device:TPU_SYSTEM:0, TPU_SYSTEM, 0, 0)\n"
          ]
        },
        {
          "output_type": "stream",
          "name": "stderr",
          "text": [
            "INFO:tensorflow:*** Available Device: _DeviceAttributes(/job:worker/replica:0/task:0/device:TPU_SYSTEM:0, TPU_SYSTEM, 0, 0)\n"
          ]
        },
        {
          "output_type": "stream",
          "name": "stdout",
          "text": [
            "INFO:tensorflow:*** Available Device: _DeviceAttributes(/job:worker/replica:0/task:0/device:XLA_CPU:0, XLA_CPU, 0, 0)\n"
          ]
        },
        {
          "output_type": "stream",
          "name": "stderr",
          "text": [
            "INFO:tensorflow:*** Available Device: _DeviceAttributes(/job:worker/replica:0/task:0/device:XLA_CPU:0, XLA_CPU, 0, 0)\n"
          ]
        },
        {
          "output_type": "stream",
          "name": "stdout",
          "text": [
            "REPLICAS:  8\n"
          ]
        }
      ]
    },
    {
      "cell_type": "code",
      "metadata": {
        "id": "rD4VtVeUcTuI"
      },
      "source": [
        "import pandas as pd\n",
        "import numpy as np\n",
        "import re\n",
        "from transformers import *\n",
        "import random"
      ],
      "execution_count": 3,
      "outputs": []
    },
    {
      "cell_type": "code",
      "metadata": {
        "colab": {
          "base_uri": "https://localhost:8080/"
        },
        "id": "AT2eHmxNAp4P",
        "outputId": "7777d208-b152-4181-dba4-a4e5262366bf"
      },
      "source": [
        "# train\n",
        "!gdown --id 1lct2GyNPE2UwI8geGXRha6j1yU8tksSw\n",
        "\n",
        "# valid\n",
        "!gdown --id 13wDQLk8mXorxghxWFNfhWvXPWPPI27dL\n",
        "\n",
        "# test\n",
        "!gdown --id 1St87-nfaqT5ZyiaDRY_NPy8PbRdTEPAY"
      ],
      "execution_count": 4,
      "outputs": [
        {
          "output_type": "stream",
          "name": "stdout",
          "text": [
            "/usr/local/lib/python3.7/dist-packages/gdown/cli.py:131: FutureWarning: Option `--id` was deprecated in version 4.3.1 and will be removed in 5.0. You don't need to pass it anymore to use a file ID.\n",
            "  category=FutureWarning,\n",
            "Downloading...\n",
            "From: https://drive.google.com/uc?id=1lct2GyNPE2UwI8geGXRha6j1yU8tksSw\n",
            "To: /content/train.csv\n",
            "100% 20.1M/20.1M [00:00<00:00, 123MB/s]\n",
            "/usr/local/lib/python3.7/dist-packages/gdown/cli.py:131: FutureWarning: Option `--id` was deprecated in version 4.3.1 and will be removed in 5.0. You don't need to pass it anymore to use a file ID.\n",
            "  category=FutureWarning,\n",
            "Downloading...\n",
            "From: https://drive.google.com/uc?id=13wDQLk8mXorxghxWFNfhWvXPWPPI27dL\n",
            "To: /content/valid.csv\n",
            "100% 1.87M/1.87M [00:00<00:00, 63.4MB/s]\n",
            "/usr/local/lib/python3.7/dist-packages/gdown/cli.py:131: FutureWarning: Option `--id` was deprecated in version 4.3.1 and will be removed in 5.0. You don't need to pass it anymore to use a file ID.\n",
            "  category=FutureWarning,\n",
            "Downloading...\n",
            "From: https://drive.google.com/uc?id=1St87-nfaqT5ZyiaDRY_NPy8PbRdTEPAY\n",
            "To: /content/test.csv\n",
            "100% 1.81M/1.81M [00:00<00:00, 121MB/s]\n"
          ]
        }
      ]
    },
    {
      "cell_type": "code",
      "metadata": {
        "id": "KEeLawlSDQ7J"
      },
      "source": [
        "train = pd.read_csv('train.csv')\n",
        "valid = pd.read_csv('valid.csv')\n",
        "test = pd.read_csv('test.csv')"
      ],
      "execution_count": 5,
      "outputs": []
    },
    {
      "cell_type": "code",
      "metadata": {
        "id": "FQ6V00J_RT-I"
      },
      "source": [
        "MODEL_NAME = 'bert-base-uncased'\n",
        "MAX_LEN = 64"
      ],
      "execution_count": 6,
      "outputs": []
    },
    {
      "cell_type": "code",
      "metadata": {
        "id": "BfA2mrI-b6xw"
      },
      "source": [
        "def prepare_dataset(data, tokenizer, max_len):\n",
        "\n",
        "  ids = []\n",
        "  masks = []\n",
        "  labels = []\n",
        "  token_ids = []\n",
        "\n",
        "  labels = []\n",
        "  \n",
        "  for row in data.itertuples():\n",
        "    text = row.Input + ' [SEP] ' + row.Output\n",
        "    inputs = tokenizer(text, None, max_length=max_len, padding='max_length', truncation=True, return_attention_mask=True, return_token_type_ids=True, add_special_tokens=True)\n",
        "    ids.append(inputs['input_ids'])\n",
        "    masks.append(inputs['attention_mask'])\n",
        "    token_ids.append(inputs['token_type_ids'])\n",
        "\n",
        "    labels.append(row.Label)\n",
        "\n",
        "  return {\n",
        "      'input_ids': ids,\n",
        "      'attention_mask': masks,\n",
        "      'token_type_ids': token_ids,\n",
        "      'labels': labels\n",
        "      }"
      ],
      "execution_count": 7,
      "outputs": []
    },
    {
      "cell_type": "code",
      "metadata": {
        "colab": {
          "base_uri": "https://localhost:8080/",
          "height": 1000,
          "referenced_widgets": [
            "da982b2f8d5d46519138a0f3fb3c370e",
            "95cb4c6cb19040419e64fccd2ec4a88f",
            "cc355313fd2646798bc7e40ee8776c88",
            "9d96ef78bb314fd5959c7d59a7293a81",
            "1b3a76b67a2a4b54bfb197aa803d539a",
            "0fa916a586bf4f56bcd9674b6eb65c6f",
            "a3cc794b91c6419282217e3e5cad0407",
            "b0bbb97f4d444b84af87e4af4dd6e918",
            "daae274866ec4fea9d57ec76dbf9d247",
            "3e6b0339bc3848f4847807aa0cde52bd",
            "b16a5d0c0f994ab5ba2eba3d14b109c9",
            "9e1968908f3d46f58dd2049488bfaf2d",
            "16360d72d9364be2b98ed35c835dafa5",
            "2ade7da7554044608b87e8e1c363cf2f",
            "f39cec21a59845cfbd89d98b769b4e6c",
            "fa70e3f66b784c7d82bce90035c2e2af",
            "0846d8206963481ba55d3b7e23f728cd",
            "cbb620fb4ac14a06a2f538059f41b788",
            "65818a24393547a7a69a797c11219eab",
            "c1e75043f8464b6da3de01b7a2350bc2",
            "e2a2cedccbc64033b38233767f95e77a",
            "1f76cee5689e4033b69928f4cadba640",
            "d492c3c50cf94e5a86a8aeb16cedd4cc",
            "b47b7d964315424eb985260a3cf4de62",
            "b3f6ea78531e43c78f881b4ae1895f73",
            "f5e694e2a60446e9b77b77513c7d74e5",
            "cfa7f29dcdc94e44a89bba4c78797f6a",
            "2b958704889948b585a3833194e97390",
            "e8686a1db3eb488790403bd752bc59d7",
            "ee6f42b9452d439daf85fe995d8a8f08",
            "a04ba75a73a641f69b4d9003192379c6",
            "c4cc79a98865424ea85d853548c64393",
            "0490b620bb15457db2554eadbab5ebb7",
            "abef2f0a72194a1c876571115274573a",
            "7c3ec26d5adf4e3798a0f8cabb16b268",
            "829f3b552751497d8c2859c8f40bb4d0",
            "37706f6934674d51b8cc1048cb63a896",
            "a725f63b34d94c3686342b6dfd664a70",
            "a19899aab589473bb89a4b4916f4ffbf",
            "6a1fa036a27f4abd9387fcd67a3e51d8",
            "dd318e8eae2f4cbd852c87199f265659",
            "633da4c92a4e440aa2dde58a16ba7a13",
            "b0785643c7f147bf96035931be5ed219",
            "02a7a100cfac4b1fbe73d8e2f1a579fa"
          ]
        },
        "id": "0oFYFsevgZsF",
        "outputId": "cff28d42-1a97-4932-9ec4-16b90b5bbd44"
      },
      "source": [
        "tokenizer = AutoTokenizer.from_pretrained(MODEL_NAME)\n",
        "tokenizer.add_special_tokens({'pad_token': '[PAD]'})\n",
        "\n",
        "training_set = prepare_dataset(train, tokenizer, MAX_LEN)\n",
        "validating_set = prepare_dataset(valid, tokenizer, MAX_LEN)\n",
        "testting_set = prepare_dataset(test, tokenizer, MAX_LEN)"
      ],
      "execution_count": 8,
      "outputs": [
        {
          "output_type": "stream",
          "name": "stderr",
          "text": [
            "https://huggingface.co/bert-base-uncased/resolve/main/tokenizer_config.json not found in cache or force_download set to True, downloading to /root/.cache/huggingface/transformers/tmpktk9luof\n"
          ]
        },
        {
          "output_type": "display_data",
          "data": {
            "text/plain": [
              "Downloading:   0%|          | 0.00/28.0 [00:00<?, ?B/s]"
            ],
            "application/vnd.jupyter.widget-view+json": {
              "version_major": 2,
              "version_minor": 0,
              "model_id": "da982b2f8d5d46519138a0f3fb3c370e"
            }
          },
          "metadata": {}
        },
        {
          "output_type": "stream",
          "name": "stderr",
          "text": [
            "storing https://huggingface.co/bert-base-uncased/resolve/main/tokenizer_config.json in cache at /root/.cache/huggingface/transformers/c1d7f0a763fb63861cc08553866f1fc3e5a6f4f07621be277452d26d71303b7e.20430bd8e10ef77a7d2977accefe796051e01bc2fc4aa146bc862997a1a15e79\n",
            "creating metadata file for /root/.cache/huggingface/transformers/c1d7f0a763fb63861cc08553866f1fc3e5a6f4f07621be277452d26d71303b7e.20430bd8e10ef77a7d2977accefe796051e01bc2fc4aa146bc862997a1a15e79\n",
            "https://huggingface.co/bert-base-uncased/resolve/main/config.json not found in cache or force_download set to True, downloading to /root/.cache/huggingface/transformers/tmp2p6vpla6\n"
          ]
        },
        {
          "output_type": "display_data",
          "data": {
            "text/plain": [
              "Downloading:   0%|          | 0.00/570 [00:00<?, ?B/s]"
            ],
            "application/vnd.jupyter.widget-view+json": {
              "version_major": 2,
              "version_minor": 0,
              "model_id": "9e1968908f3d46f58dd2049488bfaf2d"
            }
          },
          "metadata": {}
        },
        {
          "output_type": "stream",
          "name": "stderr",
          "text": [
            "storing https://huggingface.co/bert-base-uncased/resolve/main/config.json in cache at /root/.cache/huggingface/transformers/3c61d016573b14f7f008c02c4e51a366c67ab274726fe2910691e2a761acf43e.37395cee442ab11005bcd270f3c34464dc1704b715b5d7d52b1a461abe3b9e4e\n",
            "creating metadata file for /root/.cache/huggingface/transformers/3c61d016573b14f7f008c02c4e51a366c67ab274726fe2910691e2a761acf43e.37395cee442ab11005bcd270f3c34464dc1704b715b5d7d52b1a461abe3b9e4e\n",
            "loading configuration file https://huggingface.co/bert-base-uncased/resolve/main/config.json from cache at /root/.cache/huggingface/transformers/3c61d016573b14f7f008c02c4e51a366c67ab274726fe2910691e2a761acf43e.37395cee442ab11005bcd270f3c34464dc1704b715b5d7d52b1a461abe3b9e4e\n",
            "Model config BertConfig {\n",
            "  \"_name_or_path\": \"bert-base-uncased\",\n",
            "  \"architectures\": [\n",
            "    \"BertForMaskedLM\"\n",
            "  ],\n",
            "  \"attention_probs_dropout_prob\": 0.1,\n",
            "  \"classifier_dropout\": null,\n",
            "  \"gradient_checkpointing\": false,\n",
            "  \"hidden_act\": \"gelu\",\n",
            "  \"hidden_dropout_prob\": 0.1,\n",
            "  \"hidden_size\": 768,\n",
            "  \"initializer_range\": 0.02,\n",
            "  \"intermediate_size\": 3072,\n",
            "  \"layer_norm_eps\": 1e-12,\n",
            "  \"max_position_embeddings\": 512,\n",
            "  \"model_type\": \"bert\",\n",
            "  \"num_attention_heads\": 12,\n",
            "  \"num_hidden_layers\": 12,\n",
            "  \"pad_token_id\": 0,\n",
            "  \"position_embedding_type\": \"absolute\",\n",
            "  \"transformers_version\": \"4.19.2\",\n",
            "  \"type_vocab_size\": 2,\n",
            "  \"use_cache\": true,\n",
            "  \"vocab_size\": 30522\n",
            "}\n",
            "\n",
            "https://huggingface.co/bert-base-uncased/resolve/main/vocab.txt not found in cache or force_download set to True, downloading to /root/.cache/huggingface/transformers/tmpjzrbfqw3\n"
          ]
        },
        {
          "output_type": "display_data",
          "data": {
            "text/plain": [
              "Downloading:   0%|          | 0.00/226k [00:00<?, ?B/s]"
            ],
            "application/vnd.jupyter.widget-view+json": {
              "version_major": 2,
              "version_minor": 0,
              "model_id": "d492c3c50cf94e5a86a8aeb16cedd4cc"
            }
          },
          "metadata": {}
        },
        {
          "output_type": "stream",
          "name": "stderr",
          "text": [
            "storing https://huggingface.co/bert-base-uncased/resolve/main/vocab.txt in cache at /root/.cache/huggingface/transformers/45c3f7a79a80e1cf0a489e5c62b43f173c15db47864303a55d623bb3c96f72a5.d789d64ebfe299b0e416afc4a169632f903f693095b4629a7ea271d5a0cf2c99\n",
            "creating metadata file for /root/.cache/huggingface/transformers/45c3f7a79a80e1cf0a489e5c62b43f173c15db47864303a55d623bb3c96f72a5.d789d64ebfe299b0e416afc4a169632f903f693095b4629a7ea271d5a0cf2c99\n",
            "https://huggingface.co/bert-base-uncased/resolve/main/tokenizer.json not found in cache or force_download set to True, downloading to /root/.cache/huggingface/transformers/tmpv3k8v0d2\n"
          ]
        },
        {
          "output_type": "display_data",
          "data": {
            "text/plain": [
              "Downloading:   0%|          | 0.00/455k [00:00<?, ?B/s]"
            ],
            "application/vnd.jupyter.widget-view+json": {
              "version_major": 2,
              "version_minor": 0,
              "model_id": "abef2f0a72194a1c876571115274573a"
            }
          },
          "metadata": {}
        },
        {
          "output_type": "stream",
          "name": "stderr",
          "text": [
            "storing https://huggingface.co/bert-base-uncased/resolve/main/tokenizer.json in cache at /root/.cache/huggingface/transformers/534479488c54aeaf9c3406f647aa2ec13648c06771ffe269edabebd4c412da1d.7f2721073f19841be16f41b0a70b600ca6b880c8f3df6f3535cbc704371bdfa4\n",
            "creating metadata file for /root/.cache/huggingface/transformers/534479488c54aeaf9c3406f647aa2ec13648c06771ffe269edabebd4c412da1d.7f2721073f19841be16f41b0a70b600ca6b880c8f3df6f3535cbc704371bdfa4\n",
            "loading file https://huggingface.co/bert-base-uncased/resolve/main/vocab.txt from cache at /root/.cache/huggingface/transformers/45c3f7a79a80e1cf0a489e5c62b43f173c15db47864303a55d623bb3c96f72a5.d789d64ebfe299b0e416afc4a169632f903f693095b4629a7ea271d5a0cf2c99\n",
            "loading file https://huggingface.co/bert-base-uncased/resolve/main/tokenizer.json from cache at /root/.cache/huggingface/transformers/534479488c54aeaf9c3406f647aa2ec13648c06771ffe269edabebd4c412da1d.7f2721073f19841be16f41b0a70b600ca6b880c8f3df6f3535cbc704371bdfa4\n",
            "loading file https://huggingface.co/bert-base-uncased/resolve/main/added_tokens.json from cache at None\n",
            "loading file https://huggingface.co/bert-base-uncased/resolve/main/special_tokens_map.json from cache at None\n",
            "loading file https://huggingface.co/bert-base-uncased/resolve/main/tokenizer_config.json from cache at /root/.cache/huggingface/transformers/c1d7f0a763fb63861cc08553866f1fc3e5a6f4f07621be277452d26d71303b7e.20430bd8e10ef77a7d2977accefe796051e01bc2fc4aa146bc862997a1a15e79\n",
            "loading configuration file https://huggingface.co/bert-base-uncased/resolve/main/config.json from cache at /root/.cache/huggingface/transformers/3c61d016573b14f7f008c02c4e51a366c67ab274726fe2910691e2a761acf43e.37395cee442ab11005bcd270f3c34464dc1704b715b5d7d52b1a461abe3b9e4e\n",
            "Model config BertConfig {\n",
            "  \"_name_or_path\": \"bert-base-uncased\",\n",
            "  \"architectures\": [\n",
            "    \"BertForMaskedLM\"\n",
            "  ],\n",
            "  \"attention_probs_dropout_prob\": 0.1,\n",
            "  \"classifier_dropout\": null,\n",
            "  \"gradient_checkpointing\": false,\n",
            "  \"hidden_act\": \"gelu\",\n",
            "  \"hidden_dropout_prob\": 0.1,\n",
            "  \"hidden_size\": 768,\n",
            "  \"initializer_range\": 0.02,\n",
            "  \"intermediate_size\": 3072,\n",
            "  \"layer_norm_eps\": 1e-12,\n",
            "  \"max_position_embeddings\": 512,\n",
            "  \"model_type\": \"bert\",\n",
            "  \"num_attention_heads\": 12,\n",
            "  \"num_hidden_layers\": 12,\n",
            "  \"pad_token_id\": 0,\n",
            "  \"position_embedding_type\": \"absolute\",\n",
            "  \"transformers_version\": \"4.19.2\",\n",
            "  \"type_vocab_size\": 2,\n",
            "  \"use_cache\": true,\n",
            "  \"vocab_size\": 30522\n",
            "}\n",
            "\n",
            "Assigning [PAD] to the pad_token key of the tokenizer\n"
          ]
        }
      ]
    },
    {
      "cell_type": "code",
      "metadata": {
        "id": "nNpIsPOCJrRE"
      },
      "source": [
        "import tensorflow as tf\n",
        "from tensorflow.keras.layers import * \n",
        "from tensorflow.keras import optimizers, losses, layers\n",
        "from tensorflow.keras.models import Model\n",
        "from tensorflow.keras.utils import to_categorical\n",
        "from sklearn.metrics import accuracy_score\n",
        "from sklearn.metrics import recall_score\n",
        "from sklearn.metrics import precision_score\n",
        "import matplotlib.pyplot as plt"
      ],
      "execution_count": 9,
      "outputs": []
    },
    {
      "cell_type": "code",
      "metadata": {
        "id": "kTblNya1YyCq"
      },
      "source": [
        "def get_model(MAX_LEN, MODEL_NAME):\n",
        "\n",
        "  input_ids = Input(shape=(MAX_LEN,), dtype=tf.int32)\n",
        "  attention_mask = Input(shape=(MAX_LEN,), dtype=tf.int32)\n",
        "  token_type_ids = Input(shape=(MAX_LEN,), dtype=tf.int32)\n",
        "    \n",
        "  encoder = TFAutoModel.from_pretrained(MODEL_NAME, return_dict=True)\n",
        "\n",
        "  pooler_outputs = encoder({\"input_ids\": input_ids, \"token_type_ids\": token_type_ids, \"attention_mask\": attention_mask}, training=True).pooler_output\n",
        "\n",
        "  dense_layer = Dense(256, activation='relu', name='dense_layer1')(pooler_outputs)\n",
        "  dropout = Dropout(0.25)(dense_layer)\n",
        "  output = Dense(1, activation='sigmoid')(dropout)\n",
        "    \n",
        "  model = Model(inputs=[input_ids, attention_mask, token_type_ids], outputs=output)\n",
        "\n",
        "  optimizer = optimizers.Adam(lr=2e-5)\n",
        "  loss = losses.binary_crossentropy\n",
        "\n",
        "  model.compile(loss=loss, optimizer=optimizer, metrics=['accuracy'])\n",
        "  \n",
        "  return model"
      ],
      "execution_count": 10,
      "outputs": []
    },
    {
      "cell_type": "code",
      "metadata": {
        "colab": {
          "base_uri": "https://localhost:8080/",
          "height": 1000,
          "referenced_widgets": [
            "f73b3c56cb71439a9e1ea36c3794131a",
            "ca15a8f100b440aa8c23564a5a9ec0c2",
            "48b59d6513e74ea992b017dea798f9c1",
            "a0091588a54546ca8f4ad03c41386978",
            "5a6094293aed448792e0671afd771fab",
            "ae77a06517d341fcb23708b4806b9041",
            "2c3ede20af464b02b02578bafed361f2",
            "674ecea5608b49778cb02b4af19cd41c",
            "f5f1e22b7620426e9fc1ec701965e09d",
            "bcf7d42a3560416dbdeb8a48ab4f7df0",
            "4892a80929b644cabbc8b5e510481877"
          ]
        },
        "id": "TtKrQCcyZerF",
        "outputId": "44361ba1-78a1-410c-86fd-f34e5f8f763a"
      },
      "source": [
        "with strategy.scope():\n",
        "  model = get_model(MAX_LEN, MODEL_NAME)\n",
        "\n",
        "model.summary()\n",
        "\n",
        "tf.keras.utils.plot_model(model, to_file='./model.png', show_shapes=True)"
      ],
      "execution_count": 11,
      "outputs": [
        {
          "output_type": "stream",
          "name": "stderr",
          "text": [
            "loading configuration file https://huggingface.co/bert-base-uncased/resolve/main/config.json from cache at /root/.cache/huggingface/transformers/3c61d016573b14f7f008c02c4e51a366c67ab274726fe2910691e2a761acf43e.37395cee442ab11005bcd270f3c34464dc1704b715b5d7d52b1a461abe3b9e4e\n",
            "Model config BertConfig {\n",
            "  \"_name_or_path\": \"bert-base-uncased\",\n",
            "  \"architectures\": [\n",
            "    \"BertForMaskedLM\"\n",
            "  ],\n",
            "  \"attention_probs_dropout_prob\": 0.1,\n",
            "  \"classifier_dropout\": null,\n",
            "  \"gradient_checkpointing\": false,\n",
            "  \"hidden_act\": \"gelu\",\n",
            "  \"hidden_dropout_prob\": 0.1,\n",
            "  \"hidden_size\": 768,\n",
            "  \"initializer_range\": 0.02,\n",
            "  \"intermediate_size\": 3072,\n",
            "  \"layer_norm_eps\": 1e-12,\n",
            "  \"max_position_embeddings\": 512,\n",
            "  \"model_type\": \"bert\",\n",
            "  \"num_attention_heads\": 12,\n",
            "  \"num_hidden_layers\": 12,\n",
            "  \"pad_token_id\": 0,\n",
            "  \"position_embedding_type\": \"absolute\",\n",
            "  \"transformers_version\": \"4.19.2\",\n",
            "  \"type_vocab_size\": 2,\n",
            "  \"use_cache\": true,\n",
            "  \"vocab_size\": 30522\n",
            "}\n",
            "\n",
            "https://huggingface.co/bert-base-uncased/resolve/main/tf_model.h5 not found in cache or force_download set to True, downloading to /root/.cache/huggingface/transformers/tmplltucear\n"
          ]
        },
        {
          "output_type": "display_data",
          "data": {
            "text/plain": [
              "Downloading:   0%|          | 0.00/511M [00:00<?, ?B/s]"
            ],
            "application/vnd.jupyter.widget-view+json": {
              "version_major": 2,
              "version_minor": 0,
              "model_id": "f73b3c56cb71439a9e1ea36c3794131a"
            }
          },
          "metadata": {}
        },
        {
          "output_type": "stream",
          "name": "stderr",
          "text": [
            "storing https://huggingface.co/bert-base-uncased/resolve/main/tf_model.h5 in cache at /root/.cache/huggingface/transformers/775efbdc2152093295bc5824dee96da82a5f3c1f218dfface1b8cef3094bdf8f.c719a806caef7d36ec0185f14b3b5fa727d919f924abe35622b4b7147bfbb8c7.h5\n",
            "creating metadata file for /root/.cache/huggingface/transformers/775efbdc2152093295bc5824dee96da82a5f3c1f218dfface1b8cef3094bdf8f.c719a806caef7d36ec0185f14b3b5fa727d919f924abe35622b4b7147bfbb8c7.h5\n",
            "loading weights file https://huggingface.co/bert-base-uncased/resolve/main/tf_model.h5 from cache at /root/.cache/huggingface/transformers/775efbdc2152093295bc5824dee96da82a5f3c1f218dfface1b8cef3094bdf8f.c719a806caef7d36ec0185f14b3b5fa727d919f924abe35622b4b7147bfbb8c7.h5\n",
            "Some layers from the model checkpoint at bert-base-uncased were not used when initializing TFBertModel: ['nsp___cls', 'mlm___cls']\n",
            "- This IS expected if you are initializing TFBertModel from the checkpoint of a model trained on another task or with another architecture (e.g. initializing a BertForSequenceClassification model from a BertForPreTraining model).\n",
            "- This IS NOT expected if you are initializing TFBertModel from the checkpoint of a model that you expect to be exactly identical (initializing a BertForSequenceClassification model from a BertForSequenceClassification model).\n",
            "All the layers of TFBertModel were initialized from the model checkpoint at bert-base-uncased.\n",
            "If your task is similar to the task the model of the checkpoint was trained on, you can already use TFBertModel for predictions without further training.\n"
          ]
        },
        {
          "output_type": "stream",
          "name": "stdout",
          "text": [
            "Model: \"model\"\n",
            "__________________________________________________________________________________________________\n",
            " Layer (type)                   Output Shape         Param #     Connected to                     \n",
            "==================================================================================================\n",
            " input_2 (InputLayer)           [(None, 64)]         0           []                               \n",
            "                                                                                                  \n",
            " input_1 (InputLayer)           [(None, 64)]         0           []                               \n",
            "                                                                                                  \n",
            " input_3 (InputLayer)           [(None, 64)]         0           []                               \n",
            "                                                                                                  \n",
            " tf_bert_model (TFBertModel)    TFBaseModelOutputWi  109482240   ['input_2[0][0]',                \n",
            "                                thPoolingAndCrossAt               'input_1[0][0]',                \n",
            "                                tentions(last_hidde               'input_3[0][0]']                \n",
            "                                n_state=(None, 64,                                                \n",
            "                                768),                                                             \n",
            "                                 pooler_output=(Non                                               \n",
            "                                e, 768),                                                          \n",
            "                                 past_key_values=No                                               \n",
            "                                ne, hidden_states=N                                               \n",
            "                                one, attentions=Non                                               \n",
            "                                e, cross_attentions                                               \n",
            "                                =None)                                                            \n",
            "                                                                                                  \n",
            " dense_layer1 (Dense)           (None, 256)          196864      ['tf_bert_model[0][1]']          \n",
            "                                                                                                  \n",
            " dropout_37 (Dropout)           (None, 256)          0           ['dense_layer1[0][0]']           \n",
            "                                                                                                  \n",
            " dense (Dense)                  (None, 1)            257         ['dropout_37[0][0]']             \n",
            "                                                                                                  \n",
            "==================================================================================================\n",
            "Total params: 109,679,361\n",
            "Trainable params: 109,679,361\n",
            "Non-trainable params: 0\n",
            "__________________________________________________________________________________________________\n"
          ]
        },
        {
          "output_type": "stream",
          "name": "stderr",
          "text": [
            "/usr/local/lib/python3.7/dist-packages/keras/optimizer_v2/adam.py:105: UserWarning: The `lr` argument is deprecated, use `learning_rate` instead.\n",
            "  super(Adam, self).__init__(name, **kwargs)\n"
          ]
        },
        {
          "output_type": "execute_result",
          "data": {
            "text/plain": [
              "<IPython.core.display.Image object>"
            ],
            "image/png": "[encoded data removed]"
          },
          "metadata": {},
          "execution_count": 11
        }
      ]
    },
    {
      "cell_type": "code",
      "metadata": {
        "id": "L2pFWJi2JmTz"
      },
      "source": [
        "x_train = [np.array(training_set['input_ids'], dtype=int), np.array(training_set['attention_mask'], dtype=int), np.array(training_set['token_type_ids'], dtype=int)]\n",
        "x_valid = [np.array(validating_set['input_ids'], dtype=int), np.array(validating_set['attention_mask'], dtype=int), np.array(validating_set['token_type_ids'], dtype=int)]\n",
        "x_test = [np.array(testting_set['input_ids'], dtype=int), np.array(testting_set['attention_mask'], dtype=int), np.array(testting_set['token_type_ids'], dtype=int)]\n",
        "\n",
        "y_train = train.Label\n",
        "y_valid = valid.Label\n",
        "y_test = test.Label"
      ],
      "execution_count": 12,
      "outputs": []
    },
    {
      "cell_type": "code",
      "metadata": {
        "colab": {
          "base_uri": "https://localhost:8080/"
        },
        "id": "R62c5yRYKIJL",
        "outputId": "37840b75-10eb-4382-ebdf-687a1e054efe"
      },
      "source": [
        "history = model.fit(\n",
        "    x_train,\n",
        "    y_train,\n",
        "    validation_data = (x_valid, y_valid),\n",
        "    epochs=3,\n",
        "    verbose=1,\n",
        "    batch_size=32)"
      ],
      "execution_count": 13,
      "outputs": [
        {
          "output_type": "stream",
          "name": "stdout",
          "text": [
            "Epoch 1/3\n",
            "4754/4754 [==============================] - 484s 84ms/step - loss: 0.3345 - accuracy: 0.8459 - val_loss: 0.2887 - val_accuracy: 0.8734\n",
            "Epoch 2/3\n",
            "4754/4754 [==============================] - 343s 72ms/step - loss: 0.1974 - accuracy: 0.9174 - val_loss: 0.2982 - val_accuracy: 0.8783\n",
            "Epoch 3/3\n",
            "4754/4754 [==============================] - 342s 72ms/step - loss: 0.1182 - accuracy: 0.9519 - val_loss: 0.3475 - val_accuracy: 0.8795\n"
          ]
        }
      ]
    },
    {
      "cell_type": "code",
      "metadata": {
        "colab": {
          "base_uri": "https://localhost:8080/",
          "height": 299
        },
        "id": "XpgYNbLXbO8U",
        "outputId": "bc8a09b9-fc99-4f1d-f422-e537ad5a2c83"
      },
      "source": [
        "import matplotlib.pyplot as plt\n",
        "\n",
        "plt.style.use('ggplot')\n",
        "\n",
        "plt.plot(history.history['loss'])\n",
        "plt.plot(history.history['val_loss'])\n",
        "plt.title('Model Loss')\n",
        "plt.ylabel('loss')\n",
        "plt.xlabel('epoch')\n",
        "plt.legend(['train', 'validation'], loc='upper left')\n",
        "plt.show()"
      ],
      "execution_count": 14,
      "outputs": [
        {
          "output_type": "display_data",
          "data": {
            "text/plain": [
              "<Figure size 432x288 with 1 Axes>"
            ],
            "image/png": "[encoded data removed]"
          },
          "metadata": {}
        }
      ]
    },
    {
      "cell_type": "code",
      "metadata": {
        "colab": {
          "base_uri": "https://localhost:8080/",
          "height": 299
        },
        "id": "KXz51vQubQSc",
        "outputId": "db62e5f1-62ea-44e9-a205-6defb3f5ee6c"
      },
      "source": [
        "plt.plot(history.history['accuracy'])\n",
        "plt.plot(history.history['val_accuracy'])\n",
        "plt.title('Model Accuracy')\n",
        "plt.ylabel('accuracy')\n",
        "plt.xlabel('epoch')\n",
        "plt.legend(['train', 'validation'], loc='upper left')\n",
        "plt.show()"
      ],
      "execution_count": 15,
      "outputs": [
        {
          "output_type": "display_data",
          "data": {
            "text/plain": [
              "<Figure size 432x288 with 1 Axes>"
            ],
            "image/png": "[encoded data removed]"
          },
          "metadata": {}
        }
      ]
    },
    {
      "cell_type": "code",
      "metadata": {
        "id": "46kEY99UGDse"
      },
      "source": [
        "predictions = model.predict(x_test)"
      ],
      "execution_count": 16,
      "outputs": []
    },
    {
      "cell_type": "code",
      "metadata": {
        "colab": {
          "base_uri": "https://localhost:8080/"
        },
        "id": "AFLZO-aWG-BM",
        "outputId": "98e3e634-fd5f-417b-8a16-8fa14b6d894a"
      },
      "source": [
        "import optuna\n",
        "\n",
        "def objective(trial):\n",
        "\n",
        "  sig_threshold = trial.suggest_float(\"sig_threshold\", 0.0, 1.0)\n",
        "  print(\"sig_threshold\", sig_threshold)\n",
        "\n",
        "  pred_labels = [1 if predictions[i] > sig_threshold else 0 for i in range(len(testting_set['labels']))]\n",
        "\n",
        "  acc = accuracy_score(testting_set['labels'], pred_labels)\n",
        "  print(\"acc\", acc)\n",
        "\n",
        "  return acc\n",
        "\n",
        "study = optuna.create_study(direction=\"maximize\")\n",
        "study.optimize(objective, n_trials=100)"
      ],
      "execution_count": 17,
      "outputs": [
        {
          "output_type": "stream",
          "name": "stderr",
          "text": [
            "\u001b[32m[I 2022-06-09 14:22:04,029]\u001b[0m A new study created in memory with name: no-name-7646cca7-a644-4ace-900b-c7302165ee9e\u001b[0m\n",
            "\u001b[32m[I 2022-06-09 14:22:04,077]\u001b[0m Trial 0 finished with value: 0.8722551928783383 and parameters: {'sig_threshold': 0.13442226017031023}. Best is trial 0 with value: 0.8722551928783383.\u001b[0m\n",
            "\u001b[32m[I 2022-06-09 14:22:04,112]\u001b[0m Trial 1 finished with value: 0.8638724035608308 and parameters: {'sig_threshold': 0.8961254741636465}. Best is trial 0 with value: 0.8722551928783383.\u001b[0m\n",
            "\u001b[32m[I 2022-06-09 14:22:04,152]\u001b[0m Trial 2 finished with value: 0.7986646884272997 and parameters: {'sig_threshold': 0.9848066344809433}. Best is trial 0 with value: 0.8722551928783383.\u001b[0m\n",
            "\u001b[32m[I 2022-06-09 14:22:04,192]\u001b[0m Trial 3 finished with value: 0.885459940652819 and parameters: {'sig_threshold': 0.3709647178130703}. Best is trial 3 with value: 0.885459940652819.\u001b[0m\n",
            "\u001b[32m[I 2022-06-09 14:22:04,235]\u001b[0m Trial 4 finished with value: 0.8830860534124629 and parameters: {'sig_threshold': 0.24676628819805602}. Best is trial 3 with value: 0.885459940652819.\u001b[0m\n"
          ]
        },
        {
          "output_type": "stream",
          "name": "stdout",
          "text": [
            "sig_threshold 0.13442226017031023\n",
            "acc 0.8722551928783383\n",
            "sig_threshold 0.8961254741636465\n",
            "acc 0.8638724035608308\n",
            "sig_threshold 0.9848066344809433\n",
            "acc 0.7986646884272997\n",
            "sig_threshold 0.3709647178130703\n",
            "acc 0.885459940652819\n",
            "sig_threshold 0.24676628819805602\n",
            "acc 0.8830860534124629\n",
            "sig_threshold 0.038406536960343796\n"
          ]
        },
        {
          "output_type": "stream",
          "name": "stderr",
          "text": [
            "\u001b[32m[I 2022-06-09 14:22:04,280]\u001b[0m Trial 5 finished with value: 0.8365727002967359 and parameters: {'sig_threshold': 0.038406536960343796}. Best is trial 3 with value: 0.885459940652819.\u001b[0m\n",
            "\u001b[32m[I 2022-06-09 14:22:04,319]\u001b[0m Trial 6 finished with value: 0.8729970326409495 and parameters: {'sig_threshold': 0.8289413030761287}. Best is trial 3 with value: 0.885459940652819.\u001b[0m\n",
            "\u001b[32m[I 2022-06-09 14:22:04,360]\u001b[0m Trial 7 finished with value: 0.8850890207715133 and parameters: {'sig_threshold': 0.35759793081385394}. Best is trial 3 with value: 0.885459940652819.\u001b[0m\n",
            "\u001b[32m[I 2022-06-09 14:22:04,401]\u001b[0m Trial 8 finished with value: 0.8779673590504451 and parameters: {'sig_threshold': 0.16398836576688625}. Best is trial 3 with value: 0.885459940652819.\u001b[0m\n",
            "\u001b[32m[I 2022-06-09 14:22:04,439]\u001b[0m Trial 9 finished with value: 0.8819732937685459 and parameters: {'sig_threshold': 0.696878870807618}. Best is trial 3 with value: 0.885459940652819.\u001b[0m\n"
          ]
        },
        {
          "output_type": "stream",
          "name": "stdout",
          "text": [
            "acc 0.8365727002967359\n",
            "sig_threshold 0.8289413030761287\n",
            "acc 0.8729970326409495\n",
            "sig_threshold 0.35759793081385394\n",
            "acc 0.8850890207715133\n",
            "sig_threshold 0.16398836576688625\n",
            "acc 0.8779673590504451\n",
            "sig_threshold 0.696878870807618\n",
            "acc 0.8819732937685459\n",
            "sig_threshold 0.5472669616000352\n"
          ]
        },
        {
          "output_type": "stream",
          "name": "stderr",
          "text": [
            "\u001b[32m[I 2022-06-09 14:22:04,484]\u001b[0m Trial 10 finished with value: 0.8853115727002967 and parameters: {'sig_threshold': 0.5472669616000352}. Best is trial 3 with value: 0.885459940652819.\u001b[0m\n",
            "\u001b[32m[I 2022-06-09 14:22:04,539]\u001b[0m Trial 11 finished with value: 0.8852373887240356 and parameters: {'sig_threshold': 0.5354744646461085}. Best is trial 3 with value: 0.885459940652819.\u001b[0m\n",
            "\u001b[32m[I 2022-06-09 14:22:04,578]\u001b[0m Trial 12 finished with value: 0.8844955489614243 and parameters: {'sig_threshold': 0.5051058373280873}. Best is trial 3 with value: 0.885459940652819.\u001b[0m\n",
            "\u001b[32m[I 2022-06-09 14:22:04,617]\u001b[0m Trial 13 finished with value: 0.8856824925816024 and parameters: {'sig_threshold': 0.37521864800041577}. Best is trial 13 with value: 0.8856824925816024.\u001b[0m\n",
            "\u001b[32m[I 2022-06-09 14:22:04,657]\u001b[0m Trial 14 finished with value: 0.8850890207715133 and parameters: {'sig_threshold': 0.3307766139724562}. Best is trial 13 with value: 0.8856824925816024.\u001b[0m\n"
          ]
        },
        {
          "output_type": "stream",
          "name": "stdout",
          "text": [
            "acc 0.8853115727002967\n",
            "sig_threshold 0.5354744646461085\n",
            "acc 0.8852373887240356\n",
            "sig_threshold 0.5051058373280873\n",
            "acc 0.8844955489614243\n",
            "sig_threshold 0.37521864800041577\n",
            "acc 0.8856824925816024\n",
            "sig_threshold 0.3307766139724562\n",
            "acc 0.8850890207715133\n",
            "sig_threshold 0.4371667477523688\n"
          ]
        },
        {
          "output_type": "stream",
          "name": "stderr",
          "text": [
            "\u001b[32m[I 2022-06-09 14:22:04,699]\u001b[0m Trial 15 finished with value: 0.8849406528189911 and parameters: {'sig_threshold': 0.4371667477523688}. Best is trial 13 with value: 0.8856824925816024.\u001b[0m\n",
            "\u001b[32m[I 2022-06-09 14:22:04,741]\u001b[0m Trial 16 finished with value: 0.8829376854599407 and parameters: {'sig_threshold': 0.6842699835492496}. Best is trial 13 with value: 0.8856824925816024.\u001b[0m\n",
            "\u001b[32m[I 2022-06-09 14:22:04,781]\u001b[0m Trial 17 finished with value: 0.8850890207715133 and parameters: {'sig_threshold': 0.35941675498436065}. Best is trial 13 with value: 0.8856824925816024.\u001b[0m\n",
            "\u001b[32m[I 2022-06-09 14:22:04,822]\u001b[0m Trial 18 finished with value: 0.8830118694362018 and parameters: {'sig_threshold': 0.6838145085993425}. Best is trial 13 with value: 0.8856824925816024.\u001b[0m\n",
            "\u001b[32m[I 2022-06-09 14:22:04,863]\u001b[0m Trial 19 finished with value: 0.8830118694362018 and parameters: {'sig_threshold': 0.2411457664336907}. Best is trial 13 with value: 0.8856824925816024.\u001b[0m\n"
          ]
        },
        {
          "output_type": "stream",
          "name": "stdout",
          "text": [
            "acc 0.8849406528189911\n",
            "sig_threshold 0.6842699835492496\n",
            "acc 0.8829376854599407\n",
            "sig_threshold 0.35941675498436065\n",
            "acc 0.8850890207715133\n",
            "sig_threshold 0.6838145085993425\n",
            "acc 0.8830118694362018\n",
            "sig_threshold 0.2411457664336907\n",
            "acc 0.8830118694362018\n",
            "sig_threshold 0.015013010459696108\n"
          ]
        },
        {
          "output_type": "stream",
          "name": "stderr",
          "text": [
            "\u001b[32m[I 2022-06-09 14:22:04,908]\u001b[0m Trial 20 finished with value: 0.8037091988130564 and parameters: {'sig_threshold': 0.015013010459696108}. Best is trial 13 with value: 0.8856824925816024.\u001b[0m\n",
            "\u001b[32m[I 2022-06-09 14:22:04,950]\u001b[0m Trial 21 finished with value: 0.8850148367952523 and parameters: {'sig_threshold': 0.5800606179341636}. Best is trial 13 with value: 0.8856824925816024.\u001b[0m\n",
            "\u001b[32m[I 2022-06-09 14:22:04,990]\u001b[0m Trial 22 finished with value: 0.8853115727002967 and parameters: {'sig_threshold': 0.44419301841292824}. Best is trial 13 with value: 0.8856824925816024.\u001b[0m\n",
            "\u001b[32m[I 2022-06-09 14:22:05,030]\u001b[0m Trial 23 finished with value: 0.8850890207715133 and parameters: {'sig_threshold': 0.4158057421857169}. Best is trial 13 with value: 0.8856824925816024.\u001b[0m\n",
            "\u001b[32m[I 2022-06-09 14:22:05,082]\u001b[0m Trial 24 finished with value: 0.884272997032641 and parameters: {'sig_threshold': 0.2705501157080104}. Best is trial 13 with value: 0.8856824925816024.\u001b[0m\n"
          ]
        },
        {
          "output_type": "stream",
          "name": "stdout",
          "text": [
            "acc 0.8037091988130564\n",
            "sig_threshold 0.5800606179341636\n",
            "acc 0.8850148367952523\n",
            "sig_threshold 0.44419301841292824\n",
            "acc 0.8853115727002967\n",
            "sig_threshold 0.4158057421857169\n",
            "acc 0.8850890207715133\n",
            "sig_threshold 0.2705501157080104\n",
            "acc 0.884272997032641\n",
            "sig_threshold 0.40570206540014037\n"
          ]
        },
        {
          "output_type": "stream",
          "name": "stderr",
          "text": [
            "\u001b[32m[I 2022-06-09 14:22:05,122]\u001b[0m Trial 25 finished with value: 0.8856083086053412 and parameters: {'sig_threshold': 0.40570206540014037}. Best is trial 13 with value: 0.8856824925816024.\u001b[0m\n",
            "\u001b[32m[I 2022-06-09 14:22:05,169]\u001b[0m Trial 26 finished with value: 0.8789317507418397 and parameters: {'sig_threshold': 0.18881739712065526}. Best is trial 13 with value: 0.8856824925816024.\u001b[0m\n",
            "\u001b[32m[I 2022-06-09 14:22:05,209]\u001b[0m Trial 27 finished with value: 0.8841246290801187 and parameters: {'sig_threshold': 0.6368546914653782}. Best is trial 13 with value: 0.8856824925816024.\u001b[0m\n",
            "\u001b[32m[I 2022-06-09 14:22:05,248]\u001b[0m Trial 28 finished with value: 0.8847922848664689 and parameters: {'sig_threshold': 0.30880163377625425}. Best is trial 13 with value: 0.8856824925816024.\u001b[0m\n",
            "\u001b[32m[I 2022-06-09 14:22:05,288]\u001b[0m Trial 29 finished with value: 0.8708456973293769 and parameters: {'sig_threshold': 0.12144589708861031}. Best is trial 13 with value: 0.8856824925816024.\u001b[0m\n"
          ]
        },
        {
          "output_type": "stream",
          "name": "stdout",
          "text": [
            "acc 0.8856083086053412\n",
            "sig_threshold 0.18881739712065526\n",
            "acc 0.8789317507418397\n",
            "sig_threshold 0.6368546914653782\n",
            "acc 0.8841246290801187\n",
            "sig_threshold 0.30880163377625425\n",
            "acc 0.8847922848664689\n",
            "sig_threshold 0.12144589708861031\n",
            "acc 0.8708456973293769\n",
            "sig_threshold 0.4113599442397664\n"
          ]
        },
        {
          "output_type": "stream",
          "name": "stderr",
          "text": [
            "\u001b[32m[I 2022-06-09 14:22:05,336]\u001b[0m Trial 30 finished with value: 0.8852373887240356 and parameters: {'sig_threshold': 0.4113599442397664}. Best is trial 13 with value: 0.8856824925816024.\u001b[0m\n",
            "\u001b[32m[I 2022-06-09 14:22:05,376]\u001b[0m Trial 31 finished with value: 0.8853857566765578 and parameters: {'sig_threshold': 0.45786412254082026}. Best is trial 13 with value: 0.8856824925816024.\u001b[0m\n",
            "\u001b[32m[I 2022-06-09 14:22:05,417]\u001b[0m Trial 32 finished with value: 0.8850890207715133 and parameters: {'sig_threshold': 0.4854466882762758}. Best is trial 13 with value: 0.8856824925816024.\u001b[0m\n",
            "\u001b[32m[I 2022-06-09 14:22:05,457]\u001b[0m Trial 33 finished with value: 0.8856083086053412 and parameters: {'sig_threshold': 0.40620906652581734}. Best is trial 13 with value: 0.8856824925816024.\u001b[0m\n",
            "\u001b[32m[I 2022-06-09 14:22:05,502]\u001b[0m Trial 34 finished with value: 0.8853857566765578 and parameters: {'sig_threshold': 0.3842779867067487}. Best is trial 13 with value: 0.8856824925816024.\u001b[0m\n"
          ]
        },
        {
          "output_type": "stream",
          "name": "stdout",
          "text": [
            "acc 0.8852373887240356\n",
            "sig_threshold 0.45786412254082026\n",
            "acc 0.8853857566765578\n",
            "sig_threshold 0.4854466882762758\n",
            "acc 0.8850890207715133\n",
            "sig_threshold 0.40620906652581734\n",
            "acc 0.8856083086053412\n",
            "sig_threshold 0.3842779867067487\n",
            "acc 0.8853857566765578\n",
            "sig_threshold 0.30632048776132026\n"
          ]
        },
        {
          "output_type": "stream",
          "name": "stderr",
          "text": [
            "\u001b[32m[I 2022-06-09 14:22:05,546]\u001b[0m Trial 35 finished with value: 0.88486646884273 and parameters: {'sig_threshold': 0.30632048776132026}. Best is trial 13 with value: 0.8856824925816024.\u001b[0m\n",
            "\u001b[32m[I 2022-06-09 14:22:05,590]\u001b[0m Trial 36 finished with value: 0.8850148367952523 and parameters: {'sig_threshold': 0.5868670438477029}. Best is trial 13 with value: 0.8856824925816024.\u001b[0m\n",
            "\u001b[32m[I 2022-06-09 14:22:05,630]\u001b[0m Trial 37 finished with value: 0.8646884272997033 and parameters: {'sig_threshold': 0.09110109774607578}. Best is trial 13 with value: 0.8856824925816024.\u001b[0m\n",
            "\u001b[32m[I 2022-06-09 14:22:05,670]\u001b[0m Trial 38 finished with value: 0.8826409495548961 and parameters: {'sig_threshold': 0.21853837608366192}. Best is trial 13 with value: 0.8856824925816024.\u001b[0m\n",
            "\u001b[32m[I 2022-06-09 14:22:05,716]\u001b[0m Trial 39 finished with value: 0.8780415430267062 and parameters: {'sig_threshold': 0.7852688779885482}. Best is trial 13 with value: 0.8856824925816024.\u001b[0m\n"
          ]
        },
        {
          "output_type": "stream",
          "name": "stdout",
          "text": [
            "acc 0.88486646884273\n",
            "sig_threshold 0.5868670438477029\n",
            "acc 0.8850148367952523\n",
            "sig_threshold 0.09110109774607578\n",
            "acc 0.8646884272997033\n",
            "sig_threshold 0.21853837608366192\n",
            "acc 0.8826409495548961\n",
            "sig_threshold 0.7852688779885482\n",
            "acc 0.8780415430267062\n",
            "sig_threshold 0.9847840311466887\n"
          ]
        },
        {
          "output_type": "stream",
          "name": "stderr",
          "text": [
            "\u001b[32m[I 2022-06-09 14:22:05,768]\u001b[0m Trial 40 finished with value: 0.7986646884272997 and parameters: {'sig_threshold': 0.9847840311466887}. Best is trial 13 with value: 0.8856824925816024.\u001b[0m\n",
            "\u001b[32m[I 2022-06-09 14:22:05,817]\u001b[0m Trial 41 finished with value: 0.885459940652819 and parameters: {'sig_threshold': 0.38168417067448196}. Best is trial 13 with value: 0.8856824925816024.\u001b[0m\n",
            "\u001b[32m[I 2022-06-09 14:22:05,859]\u001b[0m Trial 42 finished with value: 0.8855341246290801 and parameters: {'sig_threshold': 0.3726331551375656}. Best is trial 13 with value: 0.8856824925816024.\u001b[0m\n",
            "\u001b[32m[I 2022-06-09 14:22:05,902]\u001b[0m Trial 43 finished with value: 0.883753709198813 and parameters: {'sig_threshold': 0.2805169180106073}. Best is trial 13 with value: 0.8856824925816024.\u001b[0m\n",
            "\u001b[32m[I 2022-06-09 14:22:05,941]\u001b[0m Trial 44 finished with value: 0.885459940652819 and parameters: {'sig_threshold': 0.36353917305748573}. Best is trial 13 with value: 0.8856824925816024.\u001b[0m\n"
          ]
        },
        {
          "output_type": "stream",
          "name": "stdout",
          "text": [
            "acc 0.7986646884272997\n",
            "sig_threshold 0.38168417067448196\n",
            "acc 0.885459940652819\n",
            "sig_threshold 0.3726331551375656\n",
            "acc 0.8855341246290801\n",
            "sig_threshold 0.2805169180106073\n",
            "acc 0.883753709198813\n",
            "sig_threshold 0.36353917305748573\n",
            "acc 0.885459940652819\n",
            "sig_threshold 0.49249812849243213\n"
          ]
        },
        {
          "output_type": "stream",
          "name": "stderr",
          "text": [
            "\u001b[32m[I 2022-06-09 14:22:05,985]\u001b[0m Trial 45 finished with value: 0.8847181008902077 and parameters: {'sig_threshold': 0.49249812849243213}. Best is trial 13 with value: 0.8856824925816024.\u001b[0m\n",
            "\u001b[32m[I 2022-06-09 14:22:06,022]\u001b[0m Trial 46 finished with value: 0.8850148367952523 and parameters: {'sig_threshold': 0.35518179543695766}. Best is trial 13 with value: 0.8856824925816024.\u001b[0m\n",
            "\u001b[32m[I 2022-06-09 14:22:06,064]\u001b[0m Trial 47 finished with value: 0.8849406528189911 and parameters: {'sig_threshold': 0.5312649064533562}. Best is trial 13 with value: 0.8856824925816024.\u001b[0m\n",
            "\u001b[32m[I 2022-06-09 14:22:06,111]\u001b[0m Trial 48 finished with value: 0.8853115727002967 and parameters: {'sig_threshold': 0.3190876037967463}. Best is trial 13 with value: 0.8856824925816024.\u001b[0m\n",
            "\u001b[32m[I 2022-06-09 14:22:06,151]\u001b[0m Trial 49 finished with value: 0.8794510385756676 and parameters: {'sig_threshold': 0.19609669245012074}. Best is trial 13 with value: 0.8856824925816024.\u001b[0m\n"
          ]
        },
        {
          "output_type": "stream",
          "name": "stdout",
          "text": [
            "acc 0.8847181008902077\n",
            "sig_threshold 0.35518179543695766\n",
            "acc 0.8850148367952523\n",
            "sig_threshold 0.5312649064533562\n",
            "acc 0.8849406528189911\n",
            "sig_threshold 0.3190876037967463\n",
            "acc 0.8853115727002967\n",
            "sig_threshold 0.19609669245012074\n",
            "acc 0.8794510385756676\n",
            "sig_threshold 0.4691636704344852\n"
          ]
        },
        {
          "output_type": "stream",
          "name": "stderr",
          "text": [
            "\u001b[32m[I 2022-06-09 14:22:06,193]\u001b[0m Trial 50 finished with value: 0.8853857566765578 and parameters: {'sig_threshold': 0.4691636704344852}. Best is trial 13 with value: 0.8856824925816024.\u001b[0m\n",
            "\u001b[32m[I 2022-06-09 14:22:06,234]\u001b[0m Trial 51 finished with value: 0.8856083086053412 and parameters: {'sig_threshold': 0.4071814738110592}. Best is trial 13 with value: 0.8856824925816024.\u001b[0m\n",
            "\u001b[32m[I 2022-06-09 14:22:06,282]\u001b[0m Trial 52 finished with value: 0.8853857566765578 and parameters: {'sig_threshold': 0.4094852858887619}. Best is trial 13 with value: 0.8856824925816024.\u001b[0m\n",
            "\u001b[32m[I 2022-06-09 14:22:06,320]\u001b[0m Trial 53 finished with value: 0.8857566765578635 and parameters: {'sig_threshold': 0.39381126460276084}. Best is trial 53 with value: 0.8857566765578635.\u001b[0m\n",
            "\u001b[32m[I 2022-06-09 14:22:06,360]\u001b[0m Trial 54 finished with value: 0.8839762611275964 and parameters: {'sig_threshold': 0.27466482627994593}. Best is trial 53 with value: 0.8857566765578635.\u001b[0m\n"
          ]
        },
        {
          "output_type": "stream",
          "name": "stdout",
          "text": [
            "acc 0.8853857566765578\n",
            "sig_threshold 0.4071814738110592\n",
            "acc 0.8856083086053412\n",
            "sig_threshold 0.4094852858887619\n",
            "acc 0.8853857566765578\n",
            "sig_threshold 0.39381126460276084\n",
            "acc 0.8857566765578635\n",
            "sig_threshold 0.27466482627994593\n",
            "acc 0.8839762611275964\n",
            "sig_threshold 0.4321957893865811\n"
          ]
        },
        {
          "output_type": "stream",
          "name": "stderr",
          "text": [
            "\u001b[32m[I 2022-06-09 14:22:06,416]\u001b[0m Trial 55 finished with value: 0.8847181008902077 and parameters: {'sig_threshold': 0.4321957893865811}. Best is trial 53 with value: 0.8857566765578635.\u001b[0m\n",
            "\u001b[32m[I 2022-06-09 14:22:06,460]\u001b[0m Trial 56 finished with value: 0.8850148367952523 and parameters: {'sig_threshold': 0.5158871510158629}. Best is trial 53 with value: 0.8857566765578635.\u001b[0m\n",
            "\u001b[32m[I 2022-06-09 14:22:06,499]\u001b[0m Trial 57 finished with value: 0.8849406528189911 and parameters: {'sig_threshold': 0.581977126601704}. Best is trial 53 with value: 0.8857566765578635.\u001b[0m\n",
            "\u001b[32m[I 2022-06-09 14:22:06,538]\u001b[0m Trial 58 finished with value: 0.8858308605341246 and parameters: {'sig_threshold': 0.40490554213878505}. Best is trial 58 with value: 0.8858308605341246.\u001b[0m\n",
            "\u001b[32m[I 2022-06-09 14:22:06,579]\u001b[0m Trial 59 finished with value: 0.8850890207715133 and parameters: {'sig_threshold': 0.3372633036176045}. Best is trial 58 with value: 0.8858308605341246.\u001b[0m\n"
          ]
        },
        {
          "output_type": "stream",
          "name": "stdout",
          "text": [
            "acc 0.8847181008902077\n",
            "sig_threshold 0.5158871510158629\n",
            "acc 0.8850148367952523\n",
            "sig_threshold 0.581977126601704\n",
            "acc 0.8849406528189911\n",
            "sig_threshold 0.40490554213878505\n",
            "acc 0.8858308605341246\n",
            "sig_threshold 0.3372633036176045\n",
            "acc 0.8850890207715133\n",
            "sig_threshold 0.3992294133430965\n"
          ]
        },
        {
          "output_type": "stream",
          "name": "stderr",
          "text": [
            "\u001b[32m[I 2022-06-09 14:22:06,620]\u001b[0m Trial 60 finished with value: 0.8859050445103858 and parameters: {'sig_threshold': 0.3992294133430965}. Best is trial 60 with value: 0.8859050445103858.\u001b[0m\n",
            "\u001b[32m[I 2022-06-09 14:22:06,667]\u001b[0m Trial 61 finished with value: 0.8856083086053412 and parameters: {'sig_threshold': 0.40659773679084493}. Best is trial 60 with value: 0.8859050445103858.\u001b[0m\n",
            "\u001b[32m[I 2022-06-09 14:22:06,709]\u001b[0m Trial 62 finished with value: 0.8853857566765578 and parameters: {'sig_threshold': 0.4594663718484878}. Best is trial 60 with value: 0.8859050445103858.\u001b[0m\n",
            "\u001b[32m[I 2022-06-09 14:22:06,753]\u001b[0m Trial 63 finished with value: 0.8847922848664689 and parameters: {'sig_threshold': 0.3345789384589297}. Best is trial 60 with value: 0.8859050445103858.\u001b[0m\n",
            "\u001b[32m[I 2022-06-09 14:22:06,795]\u001b[0m Trial 64 finished with value: 0.8847922848664689 and parameters: {'sig_threshold': 0.4294396391720773}. Best is trial 60 with value: 0.8859050445103858.\u001b[0m\n"
          ]
        },
        {
          "output_type": "stream",
          "name": "stdout",
          "text": [
            "acc 0.8859050445103858\n",
            "sig_threshold 0.40659773679084493\n",
            "acc 0.8856083086053412\n",
            "sig_threshold 0.4594663718484878\n",
            "acc 0.8853857566765578\n",
            "sig_threshold 0.3345789384589297\n",
            "acc 0.8847922848664689\n",
            "sig_threshold 0.4294396391720773\n",
            "acc 0.8847922848664689\n",
            "sig_threshold 0.2431869742601199\n"
          ]
        },
        {
          "output_type": "stream",
          "name": "stderr",
          "text": [
            "\u001b[32m[I 2022-06-09 14:22:06,839]\u001b[0m Trial 65 finished with value: 0.8831602373887241 and parameters: {'sig_threshold': 0.2431869742601199}. Best is trial 60 with value: 0.8859050445103858.\u001b[0m\n",
            "\u001b[32m[I 2022-06-09 14:22:06,880]\u001b[0m Trial 66 finished with value: 0.8850890207715133 and parameters: {'sig_threshold': 0.5532196033810652}. Best is trial 60 with value: 0.8859050445103858.\u001b[0m\n",
            "\u001b[32m[I 2022-06-09 14:22:06,921]\u001b[0m Trial 67 finished with value: 0.8850890207715133 and parameters: {'sig_threshold': 0.30031214464384004}. Best is trial 60 with value: 0.8859050445103858.\u001b[0m\n",
            "\u001b[32m[I 2022-06-09 14:22:06,963]\u001b[0m Trial 68 finished with value: 0.8856824925816024 and parameters: {'sig_threshold': 0.3903314022201746}. Best is trial 60 with value: 0.8859050445103858.\u001b[0m\n",
            "\u001b[32m[I 2022-06-09 14:22:07,003]\u001b[0m Trial 69 finished with value: 0.8852373887240356 and parameters: {'sig_threshold': 0.46681229306392147}. Best is trial 60 with value: 0.8859050445103858.\u001b[0m\n"
          ]
        },
        {
          "output_type": "stream",
          "name": "stdout",
          "text": [
            "acc 0.8831602373887241\n",
            "sig_threshold 0.5532196033810652\n",
            "acc 0.8850890207715133\n",
            "sig_threshold 0.30031214464384004\n",
            "acc 0.8850890207715133\n",
            "sig_threshold 0.3903314022201746\n",
            "acc 0.8856824925816024\n",
            "sig_threshold 0.46681229306392147\n",
            "acc 0.8852373887240356\n",
            "sig_threshold 0.5006379789915214\n"
          ]
        },
        {
          "output_type": "stream",
          "name": "stderr",
          "text": [
            "\u001b[32m[I 2022-06-09 14:22:07,050]\u001b[0m Trial 70 finished with value: 0.8846439169139466 and parameters: {'sig_threshold': 0.5006379789915214}. Best is trial 60 with value: 0.8859050445103858.\u001b[0m\n",
            "\u001b[32m[I 2022-06-09 14:22:07,096]\u001b[0m Trial 71 finished with value: 0.8859050445103858 and parameters: {'sig_threshold': 0.3995535730964247}. Best is trial 60 with value: 0.8859050445103858.\u001b[0m\n",
            "\u001b[32m[I 2022-06-09 14:22:07,142]\u001b[0m Trial 72 finished with value: 0.885459940652819 and parameters: {'sig_threshold': 0.38794569648960764}. Best is trial 60 with value: 0.8859050445103858.\u001b[0m\n",
            "\u001b[32m[I 2022-06-09 14:22:07,183]\u001b[0m Trial 73 finished with value: 0.8847922848664689 and parameters: {'sig_threshold': 0.334911754317806}. Best is trial 60 with value: 0.8859050445103858.\u001b[0m\n",
            "\u001b[32m[I 2022-06-09 14:22:07,224]\u001b[0m Trial 74 finished with value: 0.8852373887240356 and parameters: {'sig_threshold': 0.4466641402904178}. Best is trial 60 with value: 0.8859050445103858.\u001b[0m\n"
          ]
        },
        {
          "output_type": "stream",
          "name": "stdout",
          "text": [
            "acc 0.8846439169139466\n",
            "sig_threshold 0.3995535730964247\n",
            "acc 0.8859050445103858\n",
            "sig_threshold 0.38794569648960764\n",
            "acc 0.885459940652819\n",
            "sig_threshold 0.334911754317806\n",
            "acc 0.8847922848664689\n",
            "sig_threshold 0.4466641402904178\n",
            "acc 0.8852373887240356\n",
            "sig_threshold 0.35151175476279173\n"
          ]
        },
        {
          "output_type": "stream",
          "name": "stderr",
          "text": [
            "\u001b[32m[I 2022-06-09 14:22:07,268]\u001b[0m Trial 75 finished with value: 0.8850148367952523 and parameters: {'sig_threshold': 0.35151175476279173}. Best is trial 60 with value: 0.8859050445103858.\u001b[0m\n",
            "\u001b[32m[I 2022-06-09 14:22:07,308]\u001b[0m Trial 76 finished with value: 0.8859050445103858 and parameters: {'sig_threshold': 0.3911039209335218}. Best is trial 60 with value: 0.8859050445103858.\u001b[0m\n",
            "\u001b[32m[I 2022-06-09 14:22:07,353]\u001b[0m Trial 77 finished with value: 0.885459940652819 and parameters: {'sig_threshold': 0.38655436546015903}. Best is trial 60 with value: 0.8859050445103858.\u001b[0m\n",
            "\u001b[32m[I 2022-06-09 14:22:07,397]\u001b[0m Trial 78 finished with value: 0.8844955489614243 and parameters: {'sig_threshold': 0.28586098862335163}. Best is trial 60 with value: 0.8859050445103858.\u001b[0m\n",
            "\u001b[32m[I 2022-06-09 14:22:07,435]\u001b[0m Trial 79 finished with value: 0.8850148367952523 and parameters: {'sig_threshold': 0.4836357381875443}. Best is trial 60 with value: 0.8859050445103858.\u001b[0m\n"
          ]
        },
        {
          "output_type": "stream",
          "name": "stdout",
          "text": [
            "acc 0.8850148367952523\n",
            "sig_threshold 0.3911039209335218\n",
            "acc 0.8859050445103858\n",
            "sig_threshold 0.38655436546015903\n",
            "acc 0.885459940652819\n",
            "sig_threshold 0.28586098862335163\n",
            "acc 0.8844955489614243\n",
            "sig_threshold 0.4836357381875443\n",
            "acc 0.8850148367952523\n",
            "sig_threshold 0.626675501641896\n"
          ]
        },
        {
          "output_type": "stream",
          "name": "stderr",
          "text": [
            "\u001b[32m[I 2022-06-09 14:22:07,480]\u001b[0m Trial 80 finished with value: 0.8841988130563798 and parameters: {'sig_threshold': 0.626675501641896}. Best is trial 60 with value: 0.8859050445103858.\u001b[0m\n",
            "\u001b[32m[I 2022-06-09 14:22:07,522]\u001b[0m Trial 81 finished with value: 0.8847181008902077 and parameters: {'sig_threshold': 0.42959770619911986}. Best is trial 60 with value: 0.8859050445103858.\u001b[0m\n",
            "\u001b[32m[I 2022-06-09 14:22:07,562]\u001b[0m Trial 82 finished with value: 0.8857566765578635 and parameters: {'sig_threshold': 0.39681086139922217}. Best is trial 60 with value: 0.8859050445103858.\u001b[0m\n",
            "\u001b[32m[I 2022-06-09 14:22:07,610]\u001b[0m Trial 83 finished with value: 0.885459940652819 and parameters: {'sig_threshold': 0.3861754942059916}. Best is trial 60 with value: 0.8859050445103858.\u001b[0m\n",
            "\u001b[32m[I 2022-06-09 14:22:07,656]\u001b[0m Trial 84 finished with value: 0.8850890207715133 and parameters: {'sig_threshold': 0.36113008832374804}. Best is trial 60 with value: 0.8859050445103858.\u001b[0m\n"
          ]
        },
        {
          "output_type": "stream",
          "name": "stdout",
          "text": [
            "acc 0.8841988130563798\n",
            "sig_threshold 0.42959770619911986\n",
            "acc 0.8847181008902077\n",
            "sig_threshold 0.39681086139922217\n",
            "acc 0.8857566765578635\n",
            "sig_threshold 0.3861754942059916\n",
            "acc 0.885459940652819\n",
            "sig_threshold 0.36113008832374804\n",
            "acc 0.8850890207715133\n",
            "sig_threshold 0.3173434597776673\n"
          ]
        },
        {
          "output_type": "stream",
          "name": "stderr",
          "text": [
            "\u001b[32m[I 2022-06-09 14:22:07,703]\u001b[0m Trial 85 finished with value: 0.8852373887240356 and parameters: {'sig_threshold': 0.3173434597776673}. Best is trial 60 with value: 0.8859050445103858.\u001b[0m\n",
            "\u001b[32m[I 2022-06-09 14:22:07,749]\u001b[0m Trial 86 finished with value: 0.8835311572700296 and parameters: {'sig_threshold': 0.2570801345492125}. Best is trial 60 with value: 0.8859050445103858.\u001b[0m\n",
            "\u001b[32m[I 2022-06-09 14:22:07,789]\u001b[0m Trial 87 finished with value: 0.8853115727002967 and parameters: {'sig_threshold': 0.448452547056468}. Best is trial 60 with value: 0.8859050445103858.\u001b[0m\n",
            "\u001b[32m[I 2022-06-09 14:22:07,831]\u001b[0m Trial 88 finished with value: 0.8849406528189911 and parameters: {'sig_threshold': 0.42466664032133944}. Best is trial 60 with value: 0.8859050445103858.\u001b[0m\n",
            "\u001b[32m[I 2022-06-09 14:22:07,870]\u001b[0m Trial 89 finished with value: 0.8850148367952523 and parameters: {'sig_threshold': 0.5212384312479375}. Best is trial 60 with value: 0.8859050445103858.\u001b[0m\n"
          ]
        },
        {
          "output_type": "stream",
          "name": "stdout",
          "text": [
            "acc 0.8852373887240356\n",
            "sig_threshold 0.2570801345492125\n",
            "acc 0.8835311572700296\n",
            "sig_threshold 0.448452547056468\n",
            "acc 0.8853115727002967\n",
            "sig_threshold 0.42466664032133944\n",
            "acc 0.8849406528189911\n",
            "sig_threshold 0.5212384312479375\n",
            "acc 0.8850148367952523\n",
            "sig_threshold 0.39852801428884205\n"
          ]
        },
        {
          "output_type": "stream",
          "name": "stderr",
          "text": [
            "\u001b[32m[I 2022-06-09 14:22:07,921]\u001b[0m Trial 90 finished with value: 0.8858308605341246 and parameters: {'sig_threshold': 0.39852801428884205}. Best is trial 60 with value: 0.8859050445103858.\u001b[0m\n",
            "\u001b[32m[I 2022-06-09 14:22:07,968]\u001b[0m Trial 91 finished with value: 0.8858308605341246 and parameters: {'sig_threshold': 0.39858937012078155}. Best is trial 60 with value: 0.8859050445103858.\u001b[0m\n",
            "\u001b[32m[I 2022-06-09 14:22:08,010]\u001b[0m Trial 92 finished with value: 0.8850890207715133 and parameters: {'sig_threshold': 0.35302577381455924}. Best is trial 60 with value: 0.8859050445103858.\u001b[0m\n",
            "\u001b[32m[I 2022-06-09 14:22:08,056]\u001b[0m Trial 93 finished with value: 0.8853857566765578 and parameters: {'sig_threshold': 0.38499090948644277}. Best is trial 60 with value: 0.8859050445103858.\u001b[0m\n",
            "\u001b[32m[I 2022-06-09 14:22:08,096]\u001b[0m Trial 94 finished with value: 0.8850148367952523 and parameters: {'sig_threshold': 0.48332466691191384}. Best is trial 60 with value: 0.8859050445103858.\u001b[0m\n"
          ]
        },
        {
          "output_type": "stream",
          "name": "stdout",
          "text": [
            "acc 0.8858308605341246\n",
            "sig_threshold 0.39858937012078155\n",
            "acc 0.8858308605341246\n",
            "sig_threshold 0.35302577381455924\n",
            "acc 0.8850890207715133\n",
            "sig_threshold 0.38499090948644277\n",
            "acc 0.8853857566765578\n",
            "sig_threshold 0.48332466691191384\n",
            "acc 0.8850148367952523\n",
            "sig_threshold 0.3957202457663345\n"
          ]
        },
        {
          "output_type": "stream",
          "name": "stderr",
          "text": [
            "\u001b[32m[I 2022-06-09 14:22:08,153]\u001b[0m Trial 95 finished with value: 0.8856083086053412 and parameters: {'sig_threshold': 0.3957202457663345}. Best is trial 60 with value: 0.8859050445103858.\u001b[0m\n",
            "\u001b[32m[I 2022-06-09 14:22:08,197]\u001b[0m Trial 96 finished with value: 0.8851632047477744 and parameters: {'sig_threshold': 0.2997984296545542}. Best is trial 60 with value: 0.8859050445103858.\u001b[0m\n",
            "\u001b[32m[I 2022-06-09 14:22:08,235]\u001b[0m Trial 97 finished with value: 0.8853857566765578 and parameters: {'sig_threshold': 0.36844493721803445}. Best is trial 60 with value: 0.8859050445103858.\u001b[0m\n",
            "\u001b[32m[I 2022-06-09 14:22:08,275]\u001b[0m Trial 98 finished with value: 0.8849406528189911 and parameters: {'sig_threshold': 0.3271417738670772}. Best is trial 60 with value: 0.8859050445103858.\u001b[0m\n",
            "\u001b[32m[I 2022-06-09 14:22:08,314]\u001b[0m Trial 99 finished with value: 0.8852373887240356 and parameters: {'sig_threshold': 0.41944382770275396}. Best is trial 60 with value: 0.8859050445103858.\u001b[0m\n"
          ]
        },
        {
          "output_type": "stream",
          "name": "stdout",
          "text": [
            "acc 0.8856083086053412\n",
            "sig_threshold 0.2997984296545542\n",
            "acc 0.8851632047477744\n",
            "sig_threshold 0.36844493721803445\n",
            "acc 0.8853857566765578\n",
            "sig_threshold 0.3271417738670772\n",
            "acc 0.8849406528189911\n",
            "sig_threshold 0.41944382770275396\n",
            "acc 0.8852373887240356\n"
          ]
        }
      ]
    },
    {
      "cell_type": "code",
      "metadata": {
        "colab": {
          "base_uri": "https://localhost:8080/"
        },
        "id": "BGlFOBgSY0ks",
        "outputId": "5b3f6768-74a3-4841-80f2-864f7a7068d8"
      },
      "source": [
        "best_sig_threshold = study.best_value  \n",
        "\n",
        "pred_labels = [1 if predictions[i] > best_sig_threshold else 0 for i in range(len(testting_set['labels']))]\n",
        "\n",
        "print('Test Accuracy:', accuracy_score(testting_set['labels'], pred_labels))"
      ],
      "execution_count": 18,
      "outputs": [
        {
          "output_type": "stream",
          "name": "stdout",
          "text": [
            "Test Accuracy: 0.8659495548961424\n"
          ]
        }
      ]
    },
    {
      "cell_type": "code",
      "metadata": {
        "colab": {
          "base_uri": "https://localhost:8080/"
        },
        "id": "ZFwv1mAy5ufG",
        "outputId": "c787798f-2887-428d-cc3f-a2044ec4e8c7"
      },
      "source": [
        "best_sig_threshold"
      ],
      "execution_count": 19,
      "outputs": [
        {
          "output_type": "execute_result",
          "data": {
            "text/plain": [
              "0.8859050445103858"
            ]
          },
          "metadata": {},
          "execution_count": 19
        }
      ]
    },
    {
      "cell_type": "code",
      "source": [
        "def prepare_test_dataset(data, tokenizer, max_len):\n",
        "\n",
        "  ids = []\n",
        "  masks = []\n",
        "  labels = []\n",
        "  token_ids = []\n",
        "  \n",
        "  for row in data.itertuples():\n",
        "    text = row.Input + ' [SEP] ' + row.Output\n",
        "    inputs = tokenizer(text, None, max_length=max_len, padding='max_length', truncation=True, return_attention_mask=True, return_token_type_ids=True, add_special_tokens=True)\n",
        "    ids.append(inputs['input_ids'])\n",
        "    masks.append(inputs['attention_mask'])\n",
        "    token_ids.append(inputs['token_type_ids'])\n",
        "\n",
        "  return {\n",
        "      'input_ids': ids,\n",
        "      'attention_mask': masks,\n",
        "      'token_type_ids': token_ids,\n",
        "      }"
      ],
      "metadata": {
        "id": "_HkCdg_d2W5A"
      },
      "execution_count": 25,
      "outputs": []
    },
    {
      "cell_type": "code",
      "metadata": {
        "colab": {
          "base_uri": "https://localhost:8080/"
        },
        "id": "-wMjgCKIUFwa",
        "outputId": "75615319-afe2-4433-9d7e-01b90e66f6c5"
      },
      "source": [
        "# search space\n",
        "!gdown --id 1TtUSvIUjIF7mz49ZVTw7lt2fXQ726vaa"
      ],
      "execution_count": 20,
      "outputs": [
        {
          "output_type": "stream",
          "name": "stdout",
          "text": [
            "/usr/local/lib/python3.7/dist-packages/gdown/cli.py:131: FutureWarning: Option `--id` was deprecated in version 4.3.1 and will be removed in 5.0. You don't need to pass it anymore to use a file ID.\n",
            "  category=FutureWarning,\n",
            "Downloading...\n",
            "From: https://drive.google.com/uc?id=1TtUSvIUjIF7mz49ZVTw7lt2fXQ726vaa\n",
            "To: /content/SearchSpace.txt\n",
            "100% 4.32M/4.32M [00:00<00:00, 164MB/s]\n"
          ]
        }
      ]
    },
    {
      "cell_type": "code",
      "metadata": {
        "id": "fhkCj3DcZsNV"
      },
      "source": [
        "test_inp = [\"how are you?\", \"what do you want to eat?\", \"what is your favorite color?\", \"where have you been?\"]"
      ],
      "execution_count": 21,
      "outputs": []
    },
    {
      "cell_type": "code",
      "metadata": {
        "id": "weHW4cS6Ukoq"
      },
      "source": [
        "with open(\"SearchSpace.txt\") as f:\n",
        "  unique_out = f.readlines()"
      ],
      "execution_count": 22,
      "outputs": []
    },
    {
      "cell_type": "code",
      "metadata": {
        "id": "L59yPXJ0-eA6"
      },
      "source": [
        "test = []\n",
        "\n",
        "for inp in test_inp:\n",
        "  for out in unique_out:\n",
        "    test.append([inp, out.strip()])\n",
        "\n",
        "extra_test = pd.DataFrame(test, columns=[\"Input\", \"Output\"])   "
      ],
      "execution_count": 23,
      "outputs": []
    },
    {
      "cell_type": "code",
      "metadata": {
        "id": "fyw4Xhew_fuo"
      },
      "source": [
        "extra_testting_set = prepare_test_dataset(extra_test, tokenizer, MAX_LEN)\n",
        "extra_prepared_test = [np.array(extra_testting_set['input_ids'], dtype=int), np.array(extra_testting_set['attention_mask'], dtype=int), np.array(extra_testting_set['token_type_ids'], dtype=int)]\n",
        "\n",
        "predictions = model.predict(extra_prepared_test)\n",
        "extra_test[\"Score\"] = predictions"
      ],
      "execution_count": 26,
      "outputs": []
    },
    {
      "cell_type": "code",
      "source": [
        "answer = extra_test.groupby(\"Input\").apply(lambda x: x.sort_values(ascending=False, by='Score').head(1))\n",
        "answer.reset_index(drop=True, inplace=True)"
      ],
      "metadata": {
        "id": "Hv5zsoqC3Vuc"
      },
      "execution_count": 28,
      "outputs": []
    },
    {
      "cell_type": "code",
      "metadata": {
        "colab": {
          "base_uri": "https://localhost:8080/"
        },
        "id": "TOtznoeucbOj",
        "outputId": "89457f58-f5cb-4a80-bb78-0bcdc52a3ad3"
      },
      "source": [
        "for index, row in answer.iterrows():\n",
        "  print(\"Input:\", row.Input)\n",
        "  print(\"Output:\", row.Output)\n",
        "  print()"
      ],
      "execution_count": 29,
      "outputs": [
        {
          "output_type": "stream",
          "name": "stdout",
          "text": [
            "Input: how are you?\n",
            "Output: I'm fine . I'm just so touched by the sad story .\n",
            "\n",
            "Input: what do you want to eat?\n",
            "Output: I don't want to go all the way home just to eat .\n",
            "\n",
            "Input: what is your favorite color?\n",
            "Output: Blue , green or earth tone colors . I do not like the colors that are too bright .\n",
            "\n",
            "Input: where have you been?\n",
            "Output: My friends and I just got back from Bali .\n",
            "\n"
          ]
        }
      ]
    }
  ]
}